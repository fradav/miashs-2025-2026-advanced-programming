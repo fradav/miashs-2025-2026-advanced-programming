{
  "cells": [
    {
      "cell_type": "markdown",
      "metadata": {},
      "source": [
        "# Distributed models examples\n",
        "\n",
        "François-David Collin (CNRS, IMAG, Paul-Valéry Montpellier 3\n",
        "University)  \n",
        "Wednesday, August 27, 2025\n",
        "\n",
        "# Prerequisites\n",
        "\n",
        "You will need to install `dask[complete]` and `graphviz` packages.\n",
        "\n",
        "# Initialization"
      ],
      "id": "62061066-46ef-40a4-8c61-041db28cf683"
    },
    {
      "cell_type": "code",
      "execution_count": 1,
      "metadata": {},
      "outputs": [
        {
          "output_type": "stream",
          "name": "stderr",
          "text": [
            "/Users/fradav/Documents/Dev/Python/Cours-programmation-MIASHS-2025/.venv/lib/python3.13/site-packages/distributed/node.py:187: UserWarning:\n",
            "\n",
            "Port 8787 is already in use.\n",
            "Perhaps you already have a cluster running?\n",
            "Hosting the HTTP server on port 60091 instead\n"
          ]
        },
        {
          "output_type": "display_data",
          "metadata": {},
          "data": {
            "text/html": [
              "\n",
              "            </details>\n",
              "            </div>\n",
              "        </div>\n",
              "        \n",
              "\n",
              "    </details>\n",
              "</div>\n",
              "\n",
              "        </details>\n",
              "    </div>\n",
              "</div>\n",
              "            </details>\n",
              "        \n",
              "\n",
              "    </div>\n",
              "</div>"
            ]
          }
        }
      ],
      "source": [
        "from dask.distributed import LocalCluster\n",
        "cluster = LocalCluster(n_workers=8, threads_per_worker=1)          # Fully-featured local Dask cluster\n",
        "client = cluster.get_client()\n",
        "client"
      ],
      "id": "0998f4ef"
    },
    {
      "cell_type": "markdown",
      "metadata": {},
      "source": [
        "## Distributed prime numbers\n",
        "\n",
        "Let’s revive our functions"
      ],
      "id": "100245be-e201-408f-9a34-384ca1bb1ba8"
    },
    {
      "cell_type": "code",
      "execution_count": 2,
      "metadata": {},
      "outputs": [],
      "source": [
        "import math\n",
        "\n",
        "def check_prime(n):\n",
        "    if n % 2 == 0:\n",
        "        return False\n",
        "    for i in range(3, int(math.sqrt(n)) + 1, 2):\n",
        "        if n % i == 0:\n",
        "            return False\n",
        "    return True"
      ],
      "id": "7e3ef9cf"
    },
    {
      "cell_type": "code",
      "execution_count": 3,
      "metadata": {},
      "outputs": [],
      "source": [
        "def chunks(lst, n):\n",
        "    \"\"\"Yield successive n-sized chunks from lst.\"\"\"\n",
        "    for i in range(0, len(lst), n):\n",
        "        yield lst[i:i + n]"
      ],
      "id": "979bd1d4"
    },
    {
      "cell_type": "code",
      "execution_count": 4,
      "metadata": {},
      "outputs": [],
      "source": [
        "import numpy as np\n",
        "\n",
        "def find_primes(r):\n",
        "    return np.array(list(filter(check_prime,r)))"
      ],
      "id": "37b8e229"
    },
    {
      "cell_type": "markdown",
      "metadata": {},
      "source": [
        "### First steps\n",
        "\n",
        "1.  Complete with the correct Dask code the function below which:\n",
        "    -   takes a maximum number `N` and a `chunksize` as arguments\n",
        "    -   creates a Dask `array` with numbers from 1 to `N` split into\n",
        "        `chunksize` chunks\n",
        "    -   maps the `find_primes` function to each chunk\n",
        "    -   returns the resulting Dask array\n",
        "\n",
        "See [Dask Array\n",
        "documentation](https://docs.dask.org/en/stable/array.html).\n",
        "\n",
        "``` python\n",
        "import dask.array as da\n",
        "\n",
        "def calculate_primes(N,chunksize):\n",
        "    arr = ...\n",
        "    return arr....\n",
        "```\n",
        "\n",
        "1.  Benchmark it for\n",
        "\n",
        "``` python\n",
        "N = 5000000\n",
        "```"
      ],
      "id": "f82b72c7-a6f9-4513-8f52-0d5e1b37edb9"
    },
    {
      "cell_type": "code",
      "execution_count": 6,
      "metadata": {},
      "outputs": [],
      "source": [
        "N = 5000000"
      ],
      "id": "9f3a907a"
    },
    {
      "cell_type": "code",
      "execution_count": 7,
      "metadata": {},
      "outputs": [
        {
          "output_type": "display_data",
          "metadata": {},
          "data": {}
        }
      ],
      "source": [
        "compute_graph = calculate_primes(N,8)\n",
        "compute_graph"
      ],
      "id": "d0f7082b"
    },
    {
      "cell_type": "markdown",
      "metadata": {},
      "source": [
        "1.  Visualize the computation graph\n",
        "\n",
        "# An embarrassingly parallel example : distributed Monte-Carlo computing of $\\pi$\n",
        "\n",
        "If we sample randomly a bunch of $N$ points in the unity square, and\n",
        "counts all points $N_I$ verifying the condition\n",
        "\n",
        "$x^2 + y^2 \\le 1$ which means they are in the upper right quarter of a\n",
        "disk.\n",
        "\n",
        "We have this convergence\n",
        "\n",
        "$\\lim_{N\\to\\infty} 4\\frac{N_I}{N} = \\pi$"
      ],
      "id": "f0f70876-b4ef-49b8-abba-4848ae8d5450"
    },
    {
      "cell_type": "raw",
      "metadata": {
        "raw_mimetype": "text/html"
      },
      "source": [
        "<center>"
      ],
      "id": "16d61b01-252d-45f8-8a50-a45fca8d4193"
    },
    {
      "cell_type": "markdown",
      "metadata": {},
      "source": [
        "<img src=\"attachment:hpp2_0901.png\" width=\"40%\" />"
      ],
      "id": "87ee4ec4-f24a-460d-8264-0b13b6e85ea8"
    },
    {
      "cell_type": "raw",
      "metadata": {
        "raw_mimetype": "text/html"
      },
      "source": [
        "</center>"
      ],
      "id": "70b74389-00c5-4a08-970d-6d1e2d2a7b71"
    },
    {
      "cell_type": "markdown",
      "metadata": {},
      "source": [
        "### 2. Write the function which :\n",
        "\n",
        "-   takes a number of estimates `nbr_estimates` as argument\n",
        "-   samples them in the \\[(0,0),(1,1)\\] unity square\n",
        "-   returns the number of points inside the disk quarter\n",
        "\n",
        "``` python\n",
        "def estimate_nbr_points_in_quarter_circle(nbr_estimates):\n",
        "    ...\n",
        "    return nbr_trials_in_quarter_unit_circle\n",
        "```\n",
        "\n",
        "### 3. Make it distributed\n",
        "\n",
        "-   Wraps the previous function in \\`\\`\\`python import dask.bag as db\n",
        "\n",
        "    def calculate_pi_distributed(nnodes,nbr_samples_in_total) … return\n",
        "    estimated_pi \\`\\`\\`\n",
        "\n",
        "-   `nnodes` will use only `nnodes` partitions for bag and split the\n",
        "    number of estimates for each worker nodes into `nnodes` blocks.\n",
        "\n",
        "-   Try it on `1e8` samples and benchmark it on 1 to 8 nodes. (use\n",
        "    [`time`](https://docs.python.org/3/library/time.html#time.time))\n",
        "\n",
        "-   Plot the performance gain over one node and comment the plot.\n",
        "\n",
        "See [Dask Bag documentation](https://docs.dask.org/en/stable/bag.html).\n",
        "\n",
        "$\\Longrightarrow$ We see a near perfect linear scalability."
      ],
      "id": "8b3895a6-0e66-4ffa-afd9-bbec48f825fa"
    }
  ],
  "nbformat": 4,
  "nbformat_minor": 5,
  "metadata": {
    "kernelspec": {
      "name": "python3",
      "display_name": "Python 3 (ipykernel)",
      "language": "python",
      "path": "/Users/fradav/Documents/Dev/Python/Cours-programmation-MIASHS-2025/.venv/share/jupyter/kernels/python3"
    },
    "language_info": {
      "name": "python",
      "codemirror_mode": {
        "name": "ipython",
        "version": "3"
      },
      "file_extension": ".py",
      "mimetype": "text/x-python",
      "nbconvert_exporter": "python",
      "pygments_lexer": "ipython3",
      "version": "3.13.2"
    }
  }
}