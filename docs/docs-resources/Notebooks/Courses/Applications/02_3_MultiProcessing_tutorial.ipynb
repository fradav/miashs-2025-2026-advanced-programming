{
  "cells": [
    {
      "cell_type": "markdown",
      "metadata": {},
      "source": [
        "# Multiprocessing in Python 3\n",
        "\n",
        "Introduction to the `multiprocessing` module\n",
        "\n",
        "François-David Collin (CNRS, IMAG, Paul-Valéry Montpellier 3\n",
        "University)  \n",
        "Wednesday, August 27, 2025\n",
        "\n",
        "# Multiprocessing in Python 3\n",
        "\n",
        "## Threads vs Processes\n",
        "\n",
        "-   Thread\n",
        "    -   Is bound to processor that python process running on\n",
        "    -   Is controlled by Global Interpreter Lock (GIL)\n",
        "        -   Single python bytecode executed at a time by any thread\n",
        "-   Process\n",
        "    -   Uses multiple processors\n",
        "    -   Concurrency between threads and processes (local and remote)\n",
        "    -   Ignores GIL"
      ],
      "id": "dbc29ba9-5f79-4122-b08b-51b39f808193"
    },
    {
      "cell_type": "code",
      "execution_count": 2,
      "metadata": {
        "quarto-private-1": {
          "key": "slideshow",
          "value": {
            "slide_type": "slide"
          }
        }
      },
      "outputs": [],
      "source": [
        "from os import getpid, getppid\n",
        "from time import sleep\n",
        "\n",
        "def printer(val, wait=0):\n",
        "    sleep(wait)\n",
        "    print('Pid: {}, PPid: {}, Value: {}'\n",
        "          .format(getpid(), getppid(), val))"
      ],
      "id": "cd303998"
    },
    {
      "cell_type": "markdown",
      "metadata": {},
      "source": [
        "## Process Instantiation\n",
        "\n",
        "Let’s start with most basic example of spawning new process to run a\n",
        "function"
      ],
      "id": "ecee2677-55da-43d5-8087-228799138d5f"
    },
    {
      "cell_type": "code",
      "execution_count": 3,
      "metadata": {
        "quarto-private-1": {
          "key": "slideshow",
          "value": {
            "slide_type": ""
          }
        }
      },
      "outputs": [
        {
          "output_type": "stream",
          "name": "stdout",
          "text": [
            "Starting demo..."
          ]
        }
      ],
      "source": [
        "from multiprocessing import Process\n",
        "\n",
        "print('Starting demo...')\n",
        "p = Process(target=printer, args=('hello demo',))\n",
        "p.start()"
      ],
      "id": "c004b0fc"
    },
    {
      "cell_type": "markdown",
      "metadata": {},
      "source": [
        "### Process timing\n",
        "\n",
        "-   Use printer’s delay to see process timing\n",
        "-   Track multiple process objects\n",
        "-   Execute code in main process while chile process is running\n",
        "-   Use Process.join() to wait for processes to finish"
      ],
      "id": "3d704c3c-3fe1-4f89-9f3c-baba4c41b62d"
    },
    {
      "cell_type": "code",
      "execution_count": 4,
      "metadata": {
        "quarto-private-1": {
          "key": "slideshow",
          "value": {
            "slide_type": "subslide"
          }
        }
      },
      "outputs": [
        {
          "output_type": "stream",
          "name": "stdout",
          "text": [
            "Not waiting for proccesses to finish...\n",
            "Pid: 57920, PPid: 57903, Value: hello demo\n",
            "Pid: 57921, PPid: 57903, Value: immediate\n",
            "Pid: 57922, PPid: 57903, Value: delayed\n",
            "Pid: 57923, PPid: 57903, Value: eternity\n",
            "After processes..."
          ]
        }
      ],
      "source": [
        "proc_list = []\n",
        "for values in [('immediate', 0), ('delayed', 2), ('eternity', 5)]:\n",
        "    p = Process(target=printer, args=values)\n",
        "    proc_list.append(p)\n",
        "    p.start()  # start execution of printer\n",
        "\n",
        "print('Not waiting for proccesses to finish...')\n",
        "    \n",
        "[p.join() for p in proc_list]\n",
        "\n",
        "print('After processes...')"
      ],
      "id": "7d500a79"
    },
    {
      "cell_type": "markdown",
      "metadata": {},
      "source": [
        "## Process Pool\n",
        "\n",
        "-   Worker processes instead of direct instantiation\n",
        "-   Context manager to handle starting/joining child processes\n",
        "-   Pool.map() works like default python `map(f, args)` function\n",
        "-   Pool.map() Does not unpack args"
      ],
      "id": "0d5ca8ea-3024-40b5-a08b-2562245e2e84"
    },
    {
      "cell_type": "code",
      "execution_count": 5,
      "metadata": {
        "quarto-private-1": {
          "key": "slideshow",
          "value": {
            "slide_type": "subslide"
          }
        }
      },
      "outputs": [
        {
          "output_type": "stream",
          "name": "stdout",
          "text": [
            "Pid: 58094, PPid: 57903, Value: Its\n",
            "Pid: 58095, PPid: 57903, Value: ('A', 5)\n",
            "Pid: 58096, PPid: 57903, Value: Race"
          ]
        }
      ],
      "source": [
        "from multiprocessing.pool import Pool\n",
        "\n",
        "with Pool(3) as pool:\n",
        "    pool.map(printer, ['Its', ('A', 5), 'Race'])\n",
        "    # each worker process executes one function"
      ],
      "id": "f15998b9"
    },
    {
      "cell_type": "markdown",
      "metadata": {},
      "source": [
        "## Process + args/kwargs iteration with starmap"
      ],
      "id": "8488f6d9-b8b0-4a1d-a823-40d4c7fd6c11"
    },
    {
      "cell_type": "code",
      "execution_count": 6,
      "metadata": {
        "quarto-private-1": {
          "key": "slideshow",
          "value": {
            "slide_type": "fragment"
          }
        }
      },
      "outputs": [
        {
          "output_type": "stream",
          "name": "stdout",
          "text": [
            "Pid: 58098, PPid: 57903, Value: A\n",
            "Pid: 58097, PPid: 57903, Value: Its\n",
            "Pid: 58097, PPid: 57903, Value: Race"
          ]
        }
      ],
      "source": [
        "with Pool(2) as pool:\n",
        "    pool.starmap(printer, [('Its',), ('A', 2), ('Race',)])\n",
        "    # one worker will execute 2 functions, one worker will execute the 'slow' function"
      ],
      "id": "45f539f5"
    },
    {
      "cell_type": "markdown",
      "metadata": {},
      "source": [
        "## Thread Pool"
      ],
      "id": "f61345eb-729a-4ed0-9b31-4cba4a533059"
    },
    {
      "cell_type": "code",
      "execution_count": 7,
      "metadata": {},
      "outputs": [
        {
          "output_type": "stream",
          "name": "stdout",
          "text": [
            "Pid: 57903, PPid: 57851, Value: Its\n",
            "Pid: 57903, PPid: 57851, Value: A\n",
            "Pid: 57903, PPid: 57851, Value: Race"
          ]
        }
      ],
      "source": [
        "from multiprocessing.pool import ThreadPool\n",
        "\n",
        "# Threadpool instead of process pool, same interface\n",
        "with ThreadPool(2) as pool:\n",
        "    pool.starmap(printer, [('Its', 5), ('A', 10), ('Race', 15)])"
      ],
      "id": "458fb3dd"
    },
    {
      "cell_type": "markdown",
      "metadata": {},
      "source": [
        "## Starmap is the bomb"
      ],
      "id": "1ad528d5-f34e-4213-8acb-54ce82061aff"
    },
    {
      "cell_type": "code",
      "execution_count": 8,
      "metadata": {
        "quarto-private-1": {
          "key": "slideshow",
          "value": {
            "slide_type": "fragment"
          }
        }
      },
      "outputs": [],
      "source": [
        "def pretend_delete_method(provider, vm_name):\n",
        "    print('Pretend delete: {} on {}. (Pid: {})'\n",
        "          .format(vm_name, provider, getpid()))    \n",
        "    \n",
        "# Assuming we fetched a list of vm names on providers we want to cleanup...\n",
        "example_provider_vm_lists = dict(\n",
        "    vmware=['test_vm_1', 'test_vm_2'],\n",
        "    rhv=['test_vm_3', 'test_vm_4'],\n",
        "    osp=['test_vm_5', 'test_vm_6'],\n",
        ")"
      ],
      "id": "6b02b1ce"
    },
    {
      "cell_type": "code",
      "execution_count": 9,
      "metadata": {
        "quarto-private-1": {
          "key": "slideshow",
          "value": {
            "slide_type": "subslide"
          }
        }
      },
      "outputs": [
        {
          "output_type": "stream",
          "name": "stdout",
          "text": [
            "Pretend delete: test_vm_6 on osp. (Pid: 57903)Pretend delete: test_vm_5 on osp. (Pid: 57903)\n",
            "Pretend delete: test_vm_4 on rhv. (Pid: 57903)\n",
            "Pretend delete: test_vm_1 on vmware. (Pid: 57903)\n",
            "Pretend delete: test_vm_2 on vmware. (Pid: 57903)\n",
            "\n",
            "Pretend delete: test_vm_3 on rhv. (Pid: 57903)"
          ]
        }
      ],
      "source": [
        "# don't hate me for nested comprehension here - building tuples of provider+name\n",
        "from multiprocessing.pool import ThreadPool\n",
        "\n",
        "# Threadpool instead of process pool, same interface\n",
        "with ThreadPool(6) as pool:\n",
        "    pool.starmap(\n",
        "        pretend_delete_method, \n",
        "        [(key, vm) \n",
        "         for key, vms \n",
        "         in example_provider_vm_lists.items() \n",
        "         for vm in vms]\n",
        "    )"
      ],
      "id": "cfd15ccd"
    },
    {
      "cell_type": "markdown",
      "metadata": {},
      "source": [
        "## Locking\n",
        "\n",
        "-   semaphore-type object that can be acquired and released\n",
        "-   When acquired, only thread that has the lock can run\n",
        "-   Necessary when using shared objects"
      ],
      "id": "7f841f01-3abb-4d89-87d2-416340853421"
    },
    {
      "cell_type": "code",
      "execution_count": 10,
      "metadata": {
        "quarto-private-1": {
          "key": "slideshow",
          "value": {
            "slide_type": "subslide"
          }
        }
      },
      "outputs": [],
      "source": [
        "def not_safe_printing_method(provider, vm_name):\n",
        "        print('Pretend delete: {} on {}. (Pid: {})'\n",
        "              .format(vm_name, provider, getpid()))"
      ],
      "id": "51431e3b"
    },
    {
      "cell_type": "code",
      "execution_count": 11,
      "metadata": {
        "quarto-private-1": {
          "key": "slideshow",
          "value": {
            "slide_type": "fragment"
          }
        }
      },
      "outputs": [
        {
          "output_type": "stream",
          "name": "stdout",
          "text": [
            "Pretend delete: test_vm_1 on vmware. (Pid: 58710)\n",
            "Pretend delete: test_vm_6 on osp. (Pid: 58710)\n",
            "Pretend delete: test_vm_2 on vmware. (Pid: 58711)\n",
            "Pretend delete: test_vm_4 on rhv. (Pid: 58713)\n",
            "Pretend delete: test_vm_3 on rhv. (Pid: 58712)\n",
            "Pretend delete: test_vm_5 on osp. (Pid: 58714)"
          ]
        }
      ],
      "source": [
        "with Pool(6) as pool:\n",
        "    pool.starmap(\n",
        "        not_safe_printing_method, \n",
        "        [(key, vm) for key, vms in example_provider_vm_lists.items() for vm in vms])"
      ],
      "id": "180a4516"
    },
    {
      "cell_type": "code",
      "execution_count": 12,
      "metadata": {
        "quarto-private-1": {
          "key": "slideshow",
          "value": {
            "slide_type": "subslide"
          }
        }
      },
      "outputs": [],
      "source": [
        "# Printing is thread safe, but will sometimes print separate messages on the same line (above)\n",
        "# Use a lock around print\n",
        "from multiprocessing import Lock, Manager\n",
        "\n",
        "def safe_printing_method(lock, provider, vm_name):\n",
        "    with lock:\n",
        "        print('Pretend delete: {} on {}. (Pid: {})'\n",
        "              .format(vm_name, provider, getpid()))"
      ],
      "id": "a6042874"
    },
    {
      "cell_type": "code",
      "execution_count": 13,
      "metadata": {
        "quarto-private-1": {
          "key": "slideshow",
          "value": {
            "slide_type": "fragment"
          }
        }
      },
      "outputs": [
        {
          "output_type": "stream",
          "name": "stdout",
          "text": [
            "Pretend delete: test_vm_1 on vmware. (Pid: 58717)\n",
            "Pretend delete: test_vm_2 on vmware. (Pid: 58718)\n",
            "Pretend delete: test_vm_3 on rhv. (Pid: 58719)\n",
            "Pretend delete: test_vm_4 on rhv. (Pid: 58720)\n",
            "Pretend delete: test_vm_5 on osp. (Pid: 58721)"
          ]
        }
      ],
      "source": [
        "with Manager() as manager:\n",
        "    lock = manager.Lock()\n",
        "    with Pool(6) as pool:\n",
        "        pool.starmap(\n",
        "            safe_printing_method, \n",
        "            [(lock, key, vm) for key, vms in example_provider_vm_lists.items() for vm in vms])"
      ],
      "id": "b33670b7"
    },
    {
      "cell_type": "markdown",
      "metadata": {},
      "source": [
        "# Queues\n",
        "\n",
        "-   Store data/objects in child thread/processes and retrieve in parent\n",
        "-   FIFO stack with put, get, and empty methods"
      ],
      "id": "394cc9f8-ccdf-4da2-b808-af68e22710ca"
    },
    {
      "cell_type": "code",
      "execution_count": 14,
      "metadata": {},
      "outputs": [
        {
          "output_type": "stream",
          "name": "stdout",
          "text": [
            "Members of the queue:\n",
            "0 1 2 3 \n",
            "Size of the queue:\n",
            "4"
          ]
        }
      ],
      "source": [
        "# Standard Queue\n",
        "import queue\n",
        "q = queue.Queue()\n",
        "for x in range(4):\n",
        "    q.put(x)\n",
        "print(\"Members of the queue:\")\n",
        "y=z=q.qsize()\n",
        "\n",
        "for n in list(q.queue):\n",
        "    print(n, end=\" \")\n",
        "print(\"\\nSize of the queue:\")\n",
        "print(q.qsize())"
      ],
      "id": "b4f4bc06"
    },
    {
      "cell_type": "markdown",
      "metadata": {},
      "source": [
        "# Reminder on python serialization : “Pickling”\n",
        "\n",
        "So what is pickling? Pickling is the serializing and de-serializing of\n",
        "python objects to a byte stream. Unpicking is the opposite.\n",
        "\n",
        "Pickling is used to store python objects. This means things like lists,\n",
        "dictionaries, class objects, and more."
      ],
      "id": "7fb87d19-2ddc-494c-926a-1b4cee0d5643"
    },
    {
      "cell_type": "code",
      "execution_count": 15,
      "metadata": {
        "cell_style": "center",
        "quarto-private-1": {
          "key": "slideshow",
          "value": {
            "slide_type": "fragment"
          }
        }
      },
      "outputs": [],
      "source": [
        "import pickle # First, import pickle to use it"
      ],
      "id": "37e25708"
    },
    {
      "cell_type": "code",
      "execution_count": 16,
      "metadata": {
        "cell_style": "center",
        "quarto-private-1": {
          "key": "slideshow",
          "value": {
            "slide_type": "fragment"
          }
        }
      },
      "outputs": [],
      "source": [
        "example_dict = {1:\"6\",2:\"2\",3:\"f\"} # we define an example dictionary, which is a Python object"
      ],
      "id": "f446e6db"
    },
    {
      "cell_type": "code",
      "execution_count": 17,
      "metadata": {
        "cell_style": "center",
        "quarto-private-1": {
          "key": "slideshow",
          "value": {
            "slide_type": "fragment"
          }
        }
      },
      "outputs": [],
      "source": [
        "pickle_out = open(\"dict.pickle\",\"wb\") # Next, we open a file (note that we open to write bytes in Python 3+)"
      ],
      "id": "82a21a40"
    },
    {
      "cell_type": "code",
      "execution_count": 18,
      "metadata": {
        "cell_style": "center",
        "quarto-private-1": {
          "key": "slideshow",
          "value": {
            "slide_type": "fragment"
          }
        }
      },
      "outputs": [],
      "source": [
        "pickle.dump(example_dict, pickle_out) # then we use pickle.dump() to put the dict into opened file, then close."
      ],
      "id": "8ce24ecc"
    },
    {
      "cell_type": "code",
      "execution_count": 19,
      "metadata": {
        "cell_style": "center",
        "quarto-private-1": {
          "key": "slideshow",
          "value": {
            "slide_type": "fragment"
          }
        }
      },
      "outputs": [],
      "source": [
        "pickle_out.close() # and close(), it's very important to NOT forget to close your opened files."
      ],
      "id": "bdf8d929"
    },
    {
      "cell_type": "markdown",
      "metadata": {},
      "source": [
        "The above code will save the pickle file for us, now we need to cover\n",
        "how to access the pickled file:"
      ],
      "id": "42f8f510-7641-4c4c-b823-dbc3723ac1d9"
    },
    {
      "cell_type": "code",
      "execution_count": 20,
      "metadata": {
        "cell_style": "center",
        "quarto-private-1": {
          "key": "slideshow",
          "value": {
            "slide_type": "fragment"
          }
        }
      },
      "outputs": [],
      "source": [
        "pickle_in = open(\"dict.pickle\",\"rb\") # Open the pickle file"
      ],
      "id": "6c83e4ee"
    },
    {
      "cell_type": "code",
      "execution_count": 21,
      "metadata": {
        "cell_style": "center",
        "quarto-private-1": {
          "key": "slideshow",
          "value": {
            "slide_type": "fragment"
          }
        }
      },
      "outputs": [],
      "source": [
        "example_dict = pickle.load(pickle_in) # Use pickle.load() to load it to a var."
      ],
      "id": "5bbdea92"
    },
    {
      "cell_type": "markdown",
      "metadata": {},
      "source": [
        "That’s all there is to it, now you can do things like:"
      ],
      "id": "49058af6-58a4-4316-87a9-52cc0b5b7b6c"
    },
    {
      "cell_type": "code",
      "execution_count": 22,
      "metadata": {
        "cell_style": "center",
        "quarto-private-1": {
          "key": "slideshow",
          "value": {
            "slide_type": "fragment"
          }
        }
      },
      "outputs": [
        {
          "output_type": "stream",
          "name": "stdout",
          "text": [
            "{1: '6', 2: '2', 3: 'f'}\n",
            "f"
          ]
        }
      ],
      "source": [
        "print(example_dict)\n",
        "print(example_dict[3])"
      ],
      "id": "956f1ceb"
    },
    {
      "cell_type": "markdown",
      "metadata": {},
      "source": [
        "This shows that we’ve retained the dict data-type.\n",
        "\n",
        "## Queues\n",
        "\n",
        "-   multiprocessing.Queue\n",
        "    -   **cannot be pickled** and thus can’t be passed to Pool methods\n",
        "    -   can deadlock with improper join use\n",
        "-   multiprocessing.Manager.Queue\n",
        "    -   is proxy, can be pickled\n",
        "    -   can be shared between processes\n",
        "\n",
        "$\\Longrightarrow$ prefer the use of managed queues\n",
        "\n",
        "## Short example of queue use\n",
        "\n",
        "In this example we share a managed queue between processes, and each\n",
        "process can randomly put a boolean (indicating a failure for example) in\n",
        "this queue.\n",
        "\n",
        "This is our dummy function to parallelize, getting the shared queue as\n",
        "an additional argument"
      ],
      "id": "bfa9419e-b788-4292-967f-5d5533cf45c3"
    },
    {
      "cell_type": "code",
      "execution_count": 23,
      "metadata": {
        "quarto-private-1": {
          "key": "slideshow",
          "value": {
            "slide_type": "-"
          }
        }
      },
      "outputs": [],
      "source": [
        "from random import randint\n",
        "\n",
        "def multiple_output_method(provider, vm_name, fail_queue):\n",
        "    # random success of called method\n",
        "    if randint(0, 1):\n",
        "        return True\n",
        "    else:\n",
        "        # Store our failure vm on the queue\n",
        "        fail_queue.put(vm_name)\n",
        "        return None"
      ],
      "id": "ff8049c6"
    },
    {
      "cell_type": "markdown",
      "metadata": {},
      "source": [
        "We need to instantiate the manager, and create a queue from it"
      ],
      "id": "71b819c2-87ee-468d-b71e-eb6556346c50"
    },
    {
      "cell_type": "code",
      "execution_count": 24,
      "metadata": {
        "quarto-private-1": {
          "key": "slideshow",
          "value": {
            "slide_type": "-"
          }
        }
      },
      "outputs": [],
      "source": [
        "from multiprocessing import Manager\n",
        "\n",
        "# Create instance of manager\n",
        "manager = Manager()\n",
        "\n",
        "# Create queue object to give to child processes\n",
        "queue_for_failures = manager.Queue()"
      ],
      "id": "88b38040"
    },
    {
      "cell_type": "markdown",
      "metadata": {},
      "source": [
        "The (multi)-processing is there"
      ],
      "id": "8935d0ff-71d5-4ce8-9dae-89f040149996"
    },
    {
      "cell_type": "code",
      "execution_count": 25,
      "metadata": {
        "quarto-private-1": {
          "key": "slideshow",
          "value": {
            "slide_type": "-"
          }
        }
      },
      "outputs": [],
      "source": [
        "with Pool(2) as pool:\n",
        "    results = pool.starmap(\n",
        "        multiple_output_method, \n",
        "        [(key, vm, queue_for_failures)\n",
        "         for key, vms\n",
        "         in example_provider_vm_lists.items()\n",
        "         for vm in vms]\n",
        "    )"
      ],
      "id": "ed5e66e6"
    },
    {
      "cell_type": "markdown",
      "metadata": {},
      "source": [
        "Now what’s up ?\n",
        "\n",
        "Results :"
      ],
      "id": "e36e089f-06c5-4a26-8054-10feb76e7418"
    },
    {
      "cell_type": "code",
      "execution_count": 26,
      "metadata": {
        "quarto-private-1": {
          "key": "slideshow",
          "value": {
            "slide_type": "fragment"
          }
        }
      },
      "outputs": [
        {
          "output_type": "stream",
          "name": "stdout",
          "text": [
            "Results are in: [None, None, None, None, None, None]"
          ]
        }
      ],
      "source": [
        "print('Results are in: {}'.format(results))"
      ],
      "id": "83e85d0c"
    },
    {
      "cell_type": "markdown",
      "metadata": {},
      "source": [
        "And what is in the queue ?"
      ],
      "id": "1c06ded4-6607-4af4-a556-afedf42553b1"
    },
    {
      "cell_type": "code",
      "execution_count": 27,
      "metadata": {
        "quarto-private-1": {
          "key": "slideshow",
          "value": {
            "slide_type": "fragment"
          }
        }
      },
      "outputs": [
        {
          "output_type": "stream",
          "name": "stdout",
          "text": [
            "Failures are in: ['test_vm_1', 'test_vm_3', 'test_vm_2', 'test_vm_4', 'test_vm_5', 'test_vm_6']"
          ]
        }
      ],
      "source": [
        "failed_vms = []\n",
        "# get items from the queue while its not empty\n",
        "while not queue_for_failures.empty():\n",
        "    failed_vms.append(queue_for_failures.get())\n",
        "    \n",
        "print('Failures are in: {}'.format(failed_vms))"
      ],
      "id": "f7d83142"
    }
  ],
  "nbformat": 4,
  "nbformat_minor": 5,
  "metadata": {
    "kernelspec": {
      "name": "python3",
      "display_name": "Python 3 (ipykernel)",
      "language": "python",
      "path": "/Users/fradav/Documents/Dev/Python/Cours-programmation-MIASHS-2025/.venv/share/jupyter/kernels/python3"
    },
    "language_info": {
      "name": "python",
      "codemirror_mode": {
        "name": "ipython",
        "version": "3"
      },
      "file_extension": ".py",
      "mimetype": "text/x-python",
      "nbconvert_exporter": "python",
      "pygments_lexer": "ipython3",
      "version": "3.13.2"
    }
  }
}