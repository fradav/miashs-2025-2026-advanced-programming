{
  "cells": [
    {
      "cell_type": "markdown",
      "metadata": {},
      "source": [
        "# Numba Introduction\n",
        "\n",
        "François-David Collin (CNRS, IMAG, Paul-Valéry Montpellier 3\n",
        "University)  \n",
        "Wednesday, August 27, 2025\n",
        "\n",
        "# Numba Basics\n",
        "\n",
        "Numba is a just-in-time compiler of Python functions. It translates a\n",
        "Python function when it is called into a machine code equivalent that\n",
        "runs anywhere from 2x (simple NumPy operations) to 100x (complex Python\n",
        "loops) faster. In this notebook, we show some basic examples of using\n",
        "Numba."
      ],
      "id": "541fa2b5-24d7-4607-a315-4ebb9768e1ed"
    },
    {
      "cell_type": "code",
      "execution_count": 1,
      "metadata": {
        "quarto-private-1": {
          "key": "slideshow",
          "value": {
            "slide_type": "-"
          }
        }
      },
      "outputs": [],
      "source": [
        "import numpy as np\n",
        "import numba\n",
        "from numba import jit"
      ],
      "id": "5eaf9b85"
    },
    {
      "cell_type": "markdown",
      "metadata": {},
      "source": [
        "Let’s check which version of Numba we have:"
      ],
      "id": "306e7b0a-f04e-477a-82e2-c735ef4e2700"
    },
    {
      "cell_type": "code",
      "execution_count": 2,
      "metadata": {
        "quarto-private-1": {
          "key": "slideshow",
          "value": {
            "slide_type": "-"
          }
        }
      },
      "outputs": [
        {
          "output_type": "stream",
          "name": "stdout",
          "text": [
            "0.61.2"
          ]
        }
      ],
      "source": [
        "print(numba.__version__)"
      ],
      "id": "80f9695c"
    },
    {
      "cell_type": "markdown",
      "metadata": {},
      "source": [
        "Numba uses Python *decorators* to transform Python functions into\n",
        "functions that compile themselves. The most common Numba decorator is\n",
        "`@jit`, which creates a normal function for execution on the CPU.\n",
        "\n",
        "Numba works best on numerical functions that make use of NumPy arrays.\n",
        "Here’s an example:"
      ],
      "id": "cf1e69f9-c447-412d-ac70-b067139d0ab5"
    },
    {
      "cell_type": "code",
      "execution_count": 3,
      "metadata": {
        "cell_style": "center",
        "quarto-private-1": {
          "key": "slideshow",
          "value": {
            "slide_type": "fragment"
          }
        }
      },
      "outputs": [],
      "source": [
        "@jit(nopython=True)\n",
        "def go_fast(a): # Function is compiled to machine code when called the first time\n",
        "    trace = 0.0\n",
        "    # assuming square input matrix\n",
        "    for i in range(a.shape[0]):   # Numba likes loops\n",
        "        trace += np.tanh(a[i, i]) # Numba likes NumPy functions\n",
        "    return a + trace              # Numba likes NumPy broadcasting"
      ],
      "id": "2ae03186"
    },
    {
      "cell_type": "markdown",
      "metadata": {},
      "source": [
        "The `nopython=True` option requires that the function be fully compiled\n",
        "(so that the Python interpreter calls are completely removed), otherwise\n",
        "an exception is raised. These exceptions usually indicate places in the\n",
        "function that need to be modified in order to achieve better-than-Python\n",
        "performance. We strongly recommend always using `nopython=True`.\n",
        "\n",
        "The function has not yet been compiled. To do that, we need to call the\n",
        "function:"
      ],
      "id": "347d5a51-e92f-4dd4-8457-edc3bc067399"
    },
    {
      "cell_type": "code",
      "execution_count": 4,
      "metadata": {
        "quarto-private-1": {
          "key": "slideshow",
          "value": {
            "slide_type": "-"
          }
        }
      },
      "outputs": [
        {
          "output_type": "display_data",
          "metadata": {},
          "data": {
            "text/plain": [
              "array([[  9.,  10.,  11.,  12.,  13.,  14.,  15.,  16.,  17.,  18.],\n",
              "       [ 19.,  20.,  21.,  22.,  23.,  24.,  25.,  26.,  27.,  28.],\n",
              "       [ 29.,  30.,  31.,  32.,  33.,  34.,  35.,  36.,  37.,  38.],\n",
              "       [ 39.,  40.,  41.,  42.,  43.,  44.,  45.,  46.,  47.,  48.],\n",
              "       [ 49.,  50.,  51.,  52.,  53.,  54.,  55.,  56.,  57.,  58.],\n",
              "       [ 59.,  60.,  61.,  62.,  63.,  64.,  65.,  66.,  67.,  68.],\n",
              "       [ 69.,  70.,  71.,  72.,  73.,  74.,  75.,  76.,  77.,  78.],\n",
              "       [ 79.,  80.,  81.,  82.,  83.,  84.,  85.,  86.,  87.,  88.],\n",
              "       [ 89.,  90.,  91.,  92.,  93.,  94.,  95.,  96.,  97.,  98.],\n",
              "       [ 99., 100., 101., 102., 103., 104., 105., 106., 107., 108.]])"
            ]
          }
        }
      ],
      "source": [
        "x = np.arange(100).reshape(10, 10)\n",
        "go_fast(x)"
      ],
      "id": "1850d52d"
    },
    {
      "cell_type": "markdown",
      "metadata": {},
      "source": [
        "This first time the function was called, a new version of the function\n",
        "was compiled and executed. If we call it again, the previously generated\n",
        "function executions without another compilation step."
      ],
      "id": "2e3a170f-c1f8-497f-a65b-b70cb59ce89d"
    },
    {
      "cell_type": "code",
      "execution_count": 5,
      "metadata": {
        "quarto-private-1": {
          "key": "slideshow",
          "value": {
            "slide_type": "-"
          }
        }
      },
      "outputs": [
        {
          "output_type": "display_data",
          "metadata": {},
          "data": {
            "text/plain": [
              "array([[  9.,  11.,  13.,  15.,  17.,  19.,  21.,  23.,  25.,  27.],\n",
              "       [ 29.,  31.,  33.,  35.,  37.,  39.,  41.,  43.,  45.,  47.],\n",
              "       [ 49.,  51.,  53.,  55.,  57.,  59.,  61.,  63.,  65.,  67.],\n",
              "       [ 69.,  71.,  73.,  75.,  77.,  79.,  81.,  83.,  85.,  87.],\n",
              "       [ 89.,  91.,  93.,  95.,  97.,  99., 101., 103., 105., 107.],\n",
              "       [109., 111., 113., 115., 117., 119., 121., 123., 125., 127.],\n",
              "       [129., 131., 133., 135., 137., 139., 141., 143., 145., 147.],\n",
              "       [149., 151., 153., 155., 157., 159., 161., 163., 165., 167.],\n",
              "       [169., 171., 173., 175., 177., 179., 181., 183., 185., 187.],\n",
              "       [189., 191., 193., 195., 197., 199., 201., 203., 205., 207.]])"
            ]
          }
        }
      ],
      "source": [
        "go_fast(2*x)"
      ],
      "id": "e7d36451"
    },
    {
      "cell_type": "markdown",
      "metadata": {},
      "source": [
        "To benchmark Numba-compiled functions, it is important to time them\n",
        "without including the compilation step, since the compilation of a given\n",
        "function will only happen once for each set of input types, but the\n",
        "function will be called many times.\n",
        "\n",
        "In a notebook, the `%timeit` magic function is the best to use because\n",
        "it runs the function many times in a loop to get a more accurate\n",
        "estimate of the execution time of short functions."
      ],
      "id": "1f213f10-5c1b-42bd-86b7-dcc5b1516a18"
    },
    {
      "cell_type": "code",
      "execution_count": 6,
      "metadata": {
        "quarto-private-1": {
          "key": "slideshow",
          "value": {
            "slide_type": "-"
          }
        }
      },
      "outputs": [
        {
          "output_type": "stream",
          "name": "stdout",
          "text": [
            "342 ns ± 2.89 ns per loop (mean ± std. dev. of 7 runs, 1,000,000 loops each)"
          ]
        }
      ],
      "source": [
        "%timeit go_fast(x)"
      ],
      "id": "b6c0ab23"
    },
    {
      "cell_type": "markdown",
      "metadata": {},
      "source": [
        "Let’s compare to the uncompiled function. Numba-compiled function have a\n",
        "special `.py_func` attribute which is the original uncompiled Python\n",
        "function. We should first verify we get the same results:"
      ],
      "id": "9acb9d9d-4d5e-4b69-8117-c29fde10c979"
    },
    {
      "cell_type": "code",
      "execution_count": 7,
      "metadata": {
        "quarto-private-1": {
          "key": "slideshow",
          "value": {
            "slide_type": "-"
          }
        }
      },
      "outputs": [
        {
          "output_type": "stream",
          "name": "stdout",
          "text": [
            "None"
          ]
        }
      ],
      "source": [
        "print(np.testing.assert_array_equal(go_fast(x), go_fast.py_func(x)))"
      ],
      "id": "6a262411"
    },
    {
      "cell_type": "markdown",
      "metadata": {},
      "source": [
        "And test the speed of the Python version:"
      ],
      "id": "765def16-417a-4665-9586-0371f4dfe859"
    },
    {
      "cell_type": "code",
      "execution_count": 8,
      "metadata": {
        "quarto-private-1": {
          "key": "slideshow",
          "value": {
            "slide_type": "-"
          }
        }
      },
      "outputs": [
        {
          "output_type": "stream",
          "name": "stdout",
          "text": [
            "5.14 μs ± 48 ns per loop (mean ± std. dev. of 7 runs, 100,000 loops each)"
          ]
        }
      ],
      "source": [
        "%timeit go_fast.py_func(x)"
      ],
      "id": "d4a6eeac"
    },
    {
      "cell_type": "markdown",
      "metadata": {},
      "source": [
        "The original Python function is more than 20x slower than the\n",
        "Numba-compiled version. However, the Numba function used explicit loops,\n",
        "which are very fast in Numba and not very fast in Python. Our example\n",
        "function is so simple, we can create an alternate version of `go_fast`\n",
        "using only NumPy array expressions:"
      ],
      "id": "78ac5d9b-dc8f-4745-a834-5c8b7107f934"
    },
    {
      "cell_type": "code",
      "execution_count": 9,
      "metadata": {
        "quarto-private-1": {
          "key": "slideshow",
          "value": {
            "slide_type": "fragment"
          }
        }
      },
      "outputs": [],
      "source": [
        "def go_numpy(a):\n",
        "    return a + np.tanh(np.diagonal(a)).sum()"
      ],
      "id": "a29fb363"
    },
    {
      "cell_type": "code",
      "execution_count": 10,
      "metadata": {
        "quarto-private-1": {
          "key": "slideshow",
          "value": {
            "slide_type": "fragment"
          }
        }
      },
      "outputs": [],
      "source": [
        "np.testing.assert_array_equal(go_numpy(x), go_fast(x))"
      ],
      "id": "523aa115"
    },
    {
      "cell_type": "code",
      "execution_count": 11,
      "metadata": {
        "quarto-private-1": {
          "key": "slideshow",
          "value": {
            "slide_type": "fragment"
          }
        }
      },
      "outputs": [
        {
          "output_type": "stream",
          "name": "stdout",
          "text": [
            "1.79 μs ± 7.69 ns per loop (mean ± std. dev. of 7 runs, 1,000,000 loops each)"
          ]
        }
      ],
      "source": [
        "%timeit go_numpy(x)"
      ],
      "id": "922807cc"
    },
    {
      "cell_type": "markdown",
      "metadata": {},
      "source": [
        "The NumPy version is more than 2x faster than Python, but still 10x\n",
        "slower than Numba.\n",
        "\n",
        "### Supported Python Features\n",
        "\n",
        "Numba works best when used with NumPy arrays, but Numba also supports\n",
        "other data types out of the box:\n",
        "\n",
        "-   `int`, `float`\n",
        "-   `tuple`, `namedtuple`\n",
        "-   `list` (with some restrictions)\n",
        "-   … and others. See the [Reference\n",
        "    Manual](https://numba.pydata.org/numba-doc/latest/reference/pysupported.html)\n",
        "    for more details.\n",
        "\n",
        "In particular, tuples are useful for returning multiple values from\n",
        "functions:"
      ],
      "id": "8c73aab9-a0ab-4cd2-a28b-672c18c0810c"
    },
    {
      "cell_type": "code",
      "execution_count": 12,
      "metadata": {
        "quarto-private-1": {
          "key": "slideshow",
          "value": {
            "slide_type": "subslide"
          }
        }
      },
      "outputs": [],
      "source": [
        "import random\n",
        "\n",
        "@jit(nopython=True)\n",
        "def spherical_to_cartesian(r, theta, phi):\n",
        "    '''Convert spherical coordinates (physics convention) to cartesian coordinates'''\n",
        "    sin_theta = np.sin(theta)\n",
        "    x = r * sin_theta * np.cos(phi)\n",
        "    y = r * sin_theta * np.sin(phi)\n",
        "    z = r * np.cos(theta)\n",
        "    \n",
        "    return x, y, z # return a tuple"
      ],
      "id": "20638f3a"
    },
    {
      "cell_type": "code",
      "execution_count": 13,
      "metadata": {
        "quarto-private-1": {
          "key": "slideshow",
          "value": {
            "slide_type": "subslide"
          }
        }
      },
      "outputs": [],
      "source": [
        "@jit(nopython=True)\n",
        "def random_directions(n, r):\n",
        "    '''Return ``n`` 3-vectors in random directions with radius ``r``'''\n",
        "    out = np.empty(shape=(n,3), dtype=np.float64)\n",
        "    \n",
        "    for i in range(n):\n",
        "        # Pick directions randomly in solid angle\n",
        "        phi = random.uniform(0, 2*np.pi)\n",
        "        theta = np.arccos(random.uniform(-1, 1))\n",
        "        # unpack a tuple\n",
        "        x, y, z = spherical_to_cartesian(r, theta, phi)\n",
        "        out[i] = x, y, z\n",
        "    \n",
        "    return out"
      ],
      "id": "95ebb832"
    },
    {
      "cell_type": "code",
      "execution_count": 14,
      "metadata": {
        "quarto-private-1": {
          "key": "slideshow",
          "value": {
            "slide_type": "subslide"
          }
        }
      },
      "outputs": [
        {
          "output_type": "display_data",
          "metadata": {},
          "data": {
            "text/plain": [
              "array([[-0.32869923,  0.89544028, -0.3002391 ],\n",
              "       [-0.34390871, -0.93745609, -0.05387843],\n",
              "       [ 0.25415033,  0.10534299, -0.96141066],\n",
              "       [ 0.87479288, -0.44356899,  0.19489477],\n",
              "       [ 0.61472215,  0.67526891, -0.40758874],\n",
              "       [-0.57842471,  0.72894474, -0.36614808],\n",
              "       [ 0.28744196,  0.80850795, -0.5135095 ],\n",
              "       [ 0.86567472, -0.09923244,  0.49067322],\n",
              "       [ 0.6834847 , -0.72873742, -0.04231363],\n",
              "       [ 0.96061756,  0.12707344,  0.24711587]])"
            ]
          }
        }
      ],
      "source": [
        "random_directions(10, 1.0)"
      ],
      "id": "892b53ce"
    },
    {
      "cell_type": "markdown",
      "metadata": {},
      "source": [
        "When Numba is translating Python to machine code, it uses the\n",
        "[LLVM](https://llvm.org/) library to do most of the optimization and\n",
        "final code generation. This automatically enables a wide range of\n",
        "optimizations that you don’t even have to think about. If we were to\n",
        "inspect the output of the compiler for the previous random directions\n",
        "example, we would find that:\n",
        "\n",
        "-   The function body for `spherical_to_cartesian()` was inlined\n",
        "    directly into the body of the for loop in `random_directions`,\n",
        "    eliminating the overhead of making a function call.\n",
        "-   The separate calls to `sin()` and `cos()` were combined into a\n",
        "    single, faster call to an internal `sincos()` function.\n",
        "\n",
        "These kinds of cross-function optimizations are one of the reasons that\n",
        "Numba can sometimes outperform compiled NumPy code."
      ],
      "id": "1faadf19-d8b9-477a-9a04-e88abec7c03f"
    }
  ],
  "nbformat": 4,
  "nbformat_minor": 5,
  "metadata": {
    "kernelspec": {
      "name": "python3",
      "display_name": "Python 3 (ipykernel)",
      "language": "python",
      "path": "/Users/fradav/Documents/Dev/Python/Cours-programmation-MIASHS-2025/.venv/share/jupyter/kernels/python3"
    },
    "language_info": {
      "name": "python",
      "codemirror_mode": {
        "name": "ipython",
        "version": "3"
      },
      "file_extension": ".py",
      "mimetype": "text/x-python",
      "nbconvert_exporter": "python",
      "pygments_lexer": "ipython3",
      "version": "3.13.2"
    }
  }
}