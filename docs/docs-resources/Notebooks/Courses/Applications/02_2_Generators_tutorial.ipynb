{
  "cells": [
    {
      "cell_type": "markdown",
      "metadata": {},
      "source": [
        "# A tutorial on Python generators\n",
        "\n",
        "François-David Collin (CNRS, IMAG, Paul-Valéry Montpellier 3\n",
        "University)  \n",
        "Wednesday, August 27, 2025\n",
        "\n",
        "## Generators\n",
        "\n",
        "A generator is essentially an iterator over an object (say a dataset).\n",
        "You get a small chunk of data obtained through “iterating over the\n",
        "larger object” every time you make a call to the generator. Generators\n",
        "might prove to be useful in your implementation of sequential training\n",
        "algorithms where you only require a few samples of your data. For\n",
        "example, in a mini batch stochastic gradient descent, you would need to\n",
        "generate random samples from the dataset for performing an update on\n",
        "your gradient. Generators can be used in such use cases to create memory\n",
        "efficient implementations of your algorithm, since they allow you to\n",
        "perform operations without loading the whole dataset.\n",
        "\n",
        "Also see PEP 255 (https://www.python.org/dev/peps/pep-0255/). The\n",
        "explanation presented here is quite thorough.\n",
        "\n",
        "### Behaviour of generators\n",
        "\n",
        "A generator behaves like a function with states. Typically, functions in\n",
        "Python do not have any state information. The variables defined within\n",
        "the function scope are reset/destroyed at the end of every function\n",
        "call. A generator allows you store intermediate states between calls, so\n",
        "that every subsequent call can resume from the last state of execution.\n",
        "Generators introduced the `yield` keyword to Python. We will look at a\n",
        "few examples below.\n",
        "\n",
        "**NOTE**\n",
        "\n",
        "Although generators use the `def` keyword, they are not function\n",
        "objects. Generators are a class in their own right, but are slightly\n",
        "different from function objects.\n",
        "\n",
        "We take a look at our first generator."
      ],
      "id": "6ccd9c2d-4ce2-41b0-ae20-46063e96bdcd"
    },
    {
      "cell_type": "code",
      "execution_count": 1,
      "metadata": {},
      "outputs": [],
      "source": [
        "## Example from PEP 0255\n",
        "def fib():\n",
        "    a, b = 0, 1\n",
        "    while 1:\n",
        "        yield b\n",
        "        a, b = b, a + b"
      ],
      "id": "5de4f93b"
    },
    {
      "cell_type": "markdown",
      "metadata": {},
      "source": [
        "This is a generator that yields the infinite Fibonnaci sequence. With\n",
        "every call to fib after the first call, the state of the generator gets\n",
        "updated and the value of `b` is returned.\n",
        "\n",
        "To use a generator, we first create an instance of the generator. Use\n",
        "the `next` keywork to make calls to the generator. Once a generator has\n",
        "been consumed completely, a `StopIteration` is raised if you try to\n",
        "consume more elements from the generator."
      ],
      "id": "11e14b63-6dfc-43de-af26-9feb026d1fc4"
    },
    {
      "cell_type": "code",
      "execution_count": 2,
      "metadata": {},
      "outputs": [
        {
          "output_type": "stream",
          "name": "stdout",
          "text": [
            "1, 1, 2, 3, 5, 8, 13, 21, 34, 55, \n",
            "Passed!"
          ]
        }
      ],
      "source": [
        "gen1 = fib()\n",
        "\n",
        "# prints the first 10 fibonnaci numbers\n",
        "for i in range(10):\n",
        "    print(next(gen1), end=', ')\n",
        "print(\"\\nPassed!\")"
      ],
      "id": "5155dd30"
    },
    {
      "cell_type": "markdown",
      "metadata": {},
      "source": [
        "This example shows how you can represent an infinte sequence in Python\n",
        "without using up all the memory in the world. Next, we will look at a\n",
        "more practical example."
      ],
      "id": "67bfb9be-9d75-4f36-8ddf-d5a497563516"
    },
    {
      "cell_type": "code",
      "execution_count": 3,
      "metadata": {},
      "outputs": [],
      "source": [
        "def nsquared(n):\n",
        "    while True:\n",
        "        yield n ** 2\n",
        "        n = n - 1\n",
        "        if n == 0:\n",
        "            return  # correct way to terminate a generator"
      ],
      "id": "f3249bca"
    },
    {
      "cell_type": "code",
      "execution_count": 4,
      "metadata": {},
      "outputs": [
        {
          "output_type": "stream",
          "name": "stdout",
          "text": [
            "100, 81, 64, 49, 36, 25, 16, 9, 4, 1, \n",
            "We hit the the end of the generator, no more elements can be consumed\n",
            "Passed !"
          ]
        }
      ],
      "source": [
        "gen2 = nsquared(10)\n",
        "\n",
        "for i in gen2:\n",
        "    print(i, end=', ')\n",
        "\n",
        "try:\n",
        "    next(gen2) # should raise a StopIteration exception\n",
        "except StopIteration:\n",
        "    print(\"\\nWe hit the the end of the generator, no more elements can be consumed\")\n",
        "except Exception as e:\n",
        "    print(\"\\nOops! Unexpected error\", e)\n",
        "finally:\n",
        "    print(\"Passed !\")"
      ],
      "id": "2e95978b"
    },
    {
      "cell_type": "markdown",
      "metadata": {},
      "source": [
        "Now, suppose you want to find the sum of squares of the first 1,000,000\n",
        "(1 million) integers. You don’t believe the analytical formula and want\n",
        "to calculate it directly by summing up all the requisite squares of\n",
        "integers. It is not memory efficient to create a list of 1 million\n",
        "integers just to compute a sum. This is where our custom generator comes\n",
        "to our rescue."
      ],
      "id": "b7570eed-89aa-409d-8004-4de668b7a16e"
    },
    {
      "cell_type": "code",
      "execution_count": 5,
      "metadata": {},
      "outputs": [
        {
          "output_type": "stream",
          "name": "stdout",
          "text": [
            "333333833333500000"
          ]
        }
      ],
      "source": [
        "squared_sum1 = sum([i**2 for i in range(1000001)])\n",
        "print(squared_sum1)"
      ],
      "id": "fbfa907f"
    },
    {
      "cell_type": "code",
      "execution_count": 6,
      "metadata": {},
      "outputs": [
        {
          "output_type": "stream",
          "name": "stdout",
          "text": [
            "333333833333500000\n",
            "Passed !"
          ]
        }
      ],
      "source": [
        "gen3 = nsquared(1000000)\n",
        "squared_sum2 = sum(gen3)\n",
        "print(squared_sum2)\n",
        "\n",
        "assert squared_sum1 == squared_sum1, \"Sums are not equal !\"\n",
        "print(\"Passed !\")"
      ],
      "id": "e10e9ca6"
    },
    {
      "cell_type": "markdown",
      "metadata": {},
      "source": [
        "Although both snippets of code give the same result, the implementation\n",
        "with the generator is more scalable since it uses constant memory.\n",
        "\n",
        "### Generator expressions\n",
        "\n",
        "See PEP 289 (https://www.python.org/dev/peps/pep-0289/).\n",
        "\n",
        "Generator expressions merge the concepts of both generators and list\n",
        "comprehensions. The syntax is almost similar to list comprehensions but\n",
        "the returned result is a generator instead of a list."
      ],
      "id": "08947093-7fe4-4354-9c17-5e4a09f72cb7"
    },
    {
      "cell_type": "code",
      "execution_count": 7,
      "metadata": {},
      "outputs": [
        {
          "output_type": "stream",
          "name": "stdout",
          "text": [
            "<generator object nsquared at 0x10fd39c00>\n",
            "<generator object <genexpr> at 0x105a53850>"
          ]
        }
      ],
      "source": [
        "gen4 = nsquared(10)\n",
        "print(gen4)\n",
        "gen5 = (i**2 for i in range(11))\n",
        "print(gen5)"
      ],
      "id": "54ff927b"
    },
    {
      "cell_type": "markdown",
      "metadata": {},
      "source": [
        "Both generators and generator expressions can be passed to the tuple,\n",
        "set or list constructors to create equivalent tuples, sets or lists.\n",
        "\n",
        "**NOTE** - I strongly recommend using finite generators in such use\n",
        "cases."
      ],
      "id": "64e2d586-6f2d-4a15-8da5-233a2cbc5f49"
    },
    {
      "cell_type": "code",
      "execution_count": 8,
      "metadata": {},
      "outputs": [
        {
          "output_type": "stream",
          "name": "stdout",
          "text": [
            "(100, 81, 64, 49, 36, 25, 16, 9, 4, 1)\n",
            "[100, 81, 64, 49, 36, 25, 16, 9, 4, 1]\n",
            "{64, 1, 100, 36, 4, 9, 16, 81, 49, 25}\n",
            "(0, 1, 4, 9, 16, 25, 36, 49, 64, 81, 100)\n",
            "[0, 1, 4, 9, 16, 25, 36, 49, 64, 81, 100]\n",
            "{0, 1, 64, 4, 36, 100, 9, 16, 49, 81, 25}"
          ]
        }
      ],
      "source": [
        "# note that the generator has to be reinitialized once it has been consumed\n",
        "gen4 = nsquared(10)\n",
        "print(tuple(gen4))\n",
        "gen4 = nsquared(10)\n",
        "print(list(gen4))\n",
        "gen4 = nsquared(10)\n",
        "print(set(gen4))\n",
        "\n",
        "print(tuple(i**2 for i in range(11)))\n",
        "print(list(i**2 for i in range(11)))\n",
        "print(set(i**2 for i in range(11)))"
      ],
      "id": "c32e6415"
    },
    {
      "cell_type": "markdown",
      "metadata": {},
      "source": [
        "All the rules discussed in the previous sections about conditionals also\n",
        "apply to generator expressions"
      ],
      "id": "e9f8a045-9a1c-466d-aac9-00bcff9d6c14"
    },
    {
      "cell_type": "code",
      "execution_count": 9,
      "metadata": {},
      "outputs": [
        {
          "output_type": "stream",
          "name": "stdout",
          "text": [
            "[0, 1, 4, 9, 16, 25]\n",
            "[0, 1, 4, 9, 16, 25, 1, 1, 1, 1, 1]\n",
            "[[0 1 4]\n",
            " [1 2 5]\n",
            " [2 3 4]]"
          ]
        }
      ],
      "source": [
        "import numpy as np\n",
        "print(list(i**2 for i in range(11) if i <=5))\n",
        "print(list(i**2 if i <=5 else 1 for i in range(11)))\n",
        "mat = list(i**2 + j**2 if i < j else i + j for i in range(3) for j in range(3))\n",
        "print(np.array(mat).reshape(3,3))"
      ],
      "id": "6a61b42c"
    },
    {
      "cell_type": "markdown",
      "metadata": {},
      "source": [
        "### Advanced generator stuff\n",
        "\n",
        "See PEP 380 for details. (https://www.python.org/dev/peps/pep-0380/)\n",
        "\n",
        "Python 3 introduced the concept of one generator delegating to\n",
        "sub-generators. This is achieved with the use of the `yield from`\n",
        "keyword.\n",
        "\n",
        "Suppose, you want to create a fancy new sequence by concatenating 3\n",
        "sequences - the Fibonnaci sequence, a geometric series and a constant\n",
        "series. You can do this by creating a generator that delegates each of\n",
        "the subsequences to their own generators. To do this, we first create\n",
        "our subsequence generators."
      ],
      "id": "67a4a89d-a263-413b-a062-e00083c4199f"
    },
    {
      "cell_type": "code",
      "execution_count": 10,
      "metadata": {},
      "outputs": [],
      "source": [
        "# Same function, redefined here for clarity\n",
        "def fib(n):\n",
        "    a, b = 0, 1\n",
        "    count = 0\n",
        "    while 1:\n",
        "        yield b\n",
        "        count += 1\n",
        "        if count == n:\n",
        "            return\n",
        "        a, b = b, a + b\n",
        "\n",
        "def geom(n):\n",
        "    a = 1\n",
        "    count = 0\n",
        "    while True:\n",
        "        yield a\n",
        "        count += 1\n",
        "        if count == n:\n",
        "            return\n",
        "        a = a * 2\n",
        "\n",
        "def constant(n):\n",
        "    count = 0\n",
        "    while True:\n",
        "        yield -1\n",
        "        count += 1\n",
        "        if count == n:\n",
        "            return"
      ],
      "id": "16f918bb"
    },
    {
      "cell_type": "markdown",
      "metadata": {},
      "source": [
        "Now, we define our master generator."
      ],
      "id": "69ac1ff2-a813-4f2e-908f-cf69b5708320"
    },
    {
      "cell_type": "code",
      "execution_count": 11,
      "metadata": {},
      "outputs": [],
      "source": [
        "def master_sequence(n):\n",
        "    g1 = fib(n)\n",
        "    g2 = geom(n)\n",
        "    g3 = constant(n)\n",
        "    count = 0\n",
        "    \n",
        "    yield from g1\n",
        "    yield from g2\n",
        "    yield from g3"
      ],
      "id": "f7f7cff6"
    },
    {
      "cell_type": "code",
      "execution_count": 12,
      "metadata": {},
      "outputs": [
        {
          "output_type": "stream",
          "name": "stdout",
          "text": [
            "[1, 1, 2, 3, 5, 1, 2, 4, 8, 16, -1, -1, -1, -1, -1]"
          ]
        }
      ],
      "source": [
        "master_gen = master_sequence(5) # creates a sequence of length 15\n",
        "print(list(master_gen))"
      ],
      "id": "9be0417d"
    },
    {
      "cell_type": "markdown",
      "metadata": {},
      "source": [
        "#### A non-trivial example\n",
        "\n",
        "Here is a non-trivial example of generator used in the Keras API\n",
        "(https://keras.io/preprocessing/image/). The flow_from_directory method\n",
        "returns a generator that yields batches of image data indefinitely. This\n",
        "generator delegates the process to subgenerators that in turn yield data\n",
        "from subfolders created in your dataset. Using this generator, you can\n",
        "analyze very large image datasets on your PC without loading the entire\n",
        "dataset into your RAM. This data generator is used to feed neural nets\n",
        "during training using variations of gradient descent."
      ],
      "id": "b53b862c-6b26-4daf-afda-daec96be57a4"
    }
  ],
  "nbformat": 4,
  "nbformat_minor": 5,
  "metadata": {
    "kernelspec": {
      "name": "python3",
      "display_name": "Python 3 (ipykernel)",
      "language": "python",
      "path": "/Users/fradav/Documents/Dev/Python/Cours-programmation-MIASHS-2025/.venv/share/jupyter/kernels/python3"
    },
    "language_info": {
      "name": "python",
      "codemirror_mode": {
        "name": "ipython",
        "version": "3"
      },
      "file_extension": ".py",
      "mimetype": "text/x-python",
      "nbconvert_exporter": "python",
      "pygments_lexer": "ipython3",
      "version": "3.13.2"
    }
  }
}