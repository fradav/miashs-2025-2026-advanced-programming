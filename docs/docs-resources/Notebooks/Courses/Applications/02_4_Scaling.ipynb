{
  "cells": [
    {
      "cell_type": "markdown",
      "metadata": {},
      "source": [
        "# Scaling App with `multiprocessing`\n",
        "\n",
        "François-David Collin (CNRS, IMAG, Paul-Valéry Montpellier 3\n",
        "University)  \n",
        "Wednesday, August 27, 2025\n",
        "\n",
        "## Introduction\n",
        "\n",
        "Let’s say we got a random image and we have to process them mean\n",
        "pooling."
      ],
      "id": "3f4e99bf-946b-40d8-be28-8f9e94c41df9"
    },
    {
      "cell_type": "code",
      "execution_count": 2,
      "metadata": {},
      "outputs": [
        {
          "output_type": "display_data",
          "metadata": {},
          "data": {
            "text/plain": [
              "array([[10, 12,  8,  7],\n",
              "       [ 4, 11,  5,  9],\n",
              "       [18, 13,  7,  7],\n",
              "       [ 3, 15,  2,  2]])"
            ]
          }
        }
      ],
      "source": [
        "import numpy as np\n",
        "\n",
        "conv_output = np.array([\n",
        "    [10, 12,  8,  7],\n",
        "    [ 4, 11,  5,  9],\n",
        "    [18, 13,  7,  7],\n",
        "    [ 3, 15,  2,  2]\n",
        "])\n",
        "conv_output"
      ],
      "id": "98e609a1"
    },
    {
      "cell_type": "markdown",
      "metadata": {},
      "source": [
        "## Mean Pooling\n",
        "\n",
        "We have a 4x4 image and we want to apply a 2x2 mean pooling with a\n",
        "stride of 2. The output will be a 2x2 image.\n",
        "\n",
        "First, we extract the 2x2 windows with a stride of 2. We can use the\n",
        "following function to do so."
      ],
      "id": "d9c9455a-c38c-43fe-8a7d-3ad1679508c6"
    },
    {
      "cell_type": "code",
      "execution_count": 3,
      "metadata": {},
      "outputs": [],
      "source": [
        "def get_pools_strides(img: np.array, pool_size: int, stride: int) -> np.array:\n",
        "    # Get the shape of the image\n",
        "    shape = img.shape\n",
        "    \n",
        "    # Get the shape of the output\n",
        "    out_shape = (\n",
        "        (shape[0] - pool_size) // stride + 1,\n",
        "        (shape[1] - pool_size) // stride + 1,\n",
        "        pool_size,\n",
        "        pool_size,\n",
        "    )\n",
        "    \n",
        "    # Get the strides of the output\n",
        "    strides = (\n",
        "        img.strides[0] * stride,\n",
        "        img.strides[1] * stride,\n",
        "        img.strides[0],\n",
        "        img.strides[1],\n",
        "    )\n",
        "    \n",
        "    # Return the array\n",
        "    return np.lib.stride_tricks.as_strided(\n",
        "        img,\n",
        "        shape=out_shape,\n",
        "        strides=strides\n",
        "    )"
      ],
      "id": "ff61ceab"
    },
    {
      "cell_type": "markdown",
      "metadata": {},
      "source": [
        "We check that the function works as expected.\n",
        "\n",
        "Now, we want to compute the mean of each 2x2 window with\n",
        "[`np.mean`](https://numpy.org/doc/stable/reference/generated/numpy.mean.html).\n",
        "\n",
        "## Reference run (single core)\n",
        "\n",
        "Time the execution of the function with a single core on a 10000x10000\n",
        "image.\n",
        "\n",
        "# Strong scaling\n",
        "\n",
        "What should we do with the image to speed up the computation? We can\n",
        "split the strides into chunks and compute the mean of each chunk in\n",
        "parallel.\n",
        "\n",
        "[`np.array_split`](https://numpy.org/doc/stable/reference/generated/numpy.array_split.html)\n",
        "can be used to split the array into chunks, and\n",
        "[`np.vstack`](https://numpy.org/doc/stable/reference/generated/numpy.vstack.html)\n",
        "to stack the results.\n",
        "\n",
        "Try it with a 10000x10000 image, and check that the result is the same\n",
        "as the reference run.\n",
        "\n",
        "Now let’s multithread it. Just use\n",
        "[`multiprocessing.pool.ThreadPool`](https://docs.python.org/3/library/multiprocessing.html#multiprocessing.pool.ThreadPool)\n",
        "to parallelize the computation, and `pool.map` to apply the function to\n",
        "each chunk (no `asyncio` here, we want to wait for the result). The\n",
        "function should get the image, the number of chunks, and the number of\n",
        "cores as arguments.\n",
        "\n",
        "Check that the result is the same as the reference run and time the\n",
        "execution."
      ],
      "id": "effaeeba-42dd-431e-9d1e-979dfe889a25"
    },
    {
      "cell_type": "code",
      "execution_count": 8,
      "metadata": {},
      "outputs": [],
      "source": [
        "import functools\n",
        "from multiprocessing.pool import ThreadPool\n",
        " \n",
        "def meanpool(a):\n",
        "    . . .\n",
        "\n",
        "def strong_scaling_main(img,ncores):\n",
        "    . . .\n",
        "\n",
        "\n",
        "N=10000\n",
        "img=np.arange(N*N).reshape(N,N)\n",
        "res_thread = strong_scaling_main(img,ncores=8)\n",
        "np.testing.assert_array_equal(res_single, res_thread)\n",
        "\n",
        "time_threaded = %timeit -o strong_scaling_main(img,ncores=8)\n",
        "print(f\"Speedup: {time_ref_single.average / time_threaded.average}\")"
      ],
      "id": "e87f4c09"
    },
    {
      "cell_type": "markdown",
      "metadata": {},
      "source": [
        "# Weak scaling\n",
        "\n",
        "Now let’s try with a 1000x1000 image and 8 cores on weak scaling. For\n",
        "the sake of the application, we simply replicate the image 8 times, and\n",
        "apply the mean pooling to each image, one on each core."
      ],
      "id": "f730ed5b-ee7a-488f-8aca-240e9ba0792b"
    },
    {
      "cell_type": "code",
      "execution_count": 10,
      "metadata": {},
      "outputs": [],
      "source": [
        "import functools\n",
        "from multiprocessing.pool import ThreadPool\n",
        " \n",
        "def meanpoolimg(img):\n",
        "    . . .\n",
        "\n",
        "def weak_scaling_main(imgs,ncores):\n",
        "    . . .\n",
        "\n",
        "N=1000\n",
        "img=np.arange(N*N).reshape(N,N)\n",
        "\n",
        "time_ref_single = . . .\n",
        "time_threaded = %timeit -o weak_scaling_main([img]*8,ncores=8)\n",
        "print(f\"Speedup: {. . .}\")"
      ],
      "id": "29d974f9"
    },
    {
      "cell_type": "markdown",
      "metadata": {},
      "source": [
        "# The laws\n",
        "\n",
        "## Getting the speedups"
      ],
      "id": "90237c47-7d92-416a-ac1a-014d1ec18b3e"
    },
    {
      "cell_type": "code",
      "execution_count": 12,
      "metadata": {},
      "outputs": [],
      "source": [
        "import time\n",
        "import pandas as pd\n",
        "\n",
        "def weak_scaling_run(compute_func,ncores_range,N,verbose=True):\n",
        "    cluster_times = []\n",
        "    speedups = []\n",
        "    img=np.arange(N*N).reshape(N,N)\n",
        "    for nbr_parallel_blocks in ncores_range:\n",
        "        imgs = [img]*nbr_parallel_blocks\n",
        "        t1 = time.time()\n",
        "        compute_func(imgs,nbr_parallel_blocks)\n",
        "        total_time = time.time() - t1\n",
        "        t2 = time.time()\n",
        "        compute_func(imgs,1)\n",
        "        total_time_seq = time.time() - t2\n",
        "        if verbose:\n",
        "            print(f\"With {nbr_parallel_blocks} node(s): \")\n",
        "            print(\"\\tTime : {:.2f}s\".format(total_time))\n",
        "            print(\"\\tTime seq : {:.2f}s\".format(total_time_seq))\n",
        "        cluster_times.append(total_time)\n",
        "        speedups.append(total_time_seq/total_time)\n",
        "    return pd.DataFrame({'time':cluster_times,'speedup':speedups},index=ncores_range)\n",
        "\n",
        "def strong_scaling_run(compute_func,ncores_range,N,verbose=True):\n",
        "    cluster_times = []\n",
        "    speedups = []\n",
        "    img=np.arange(N*N).reshape(N,N)\n",
        "    for nbr_parallel_blocks in ncores_range:\n",
        "        t1 = time.time()\n",
        "        compute_func(img,nbr_parallel_blocks)\n",
        "        total_time = time.time() - t1\n",
        "        if verbose:\n",
        "            print(f\"With {nbr_parallel_blocks} node(s): \")\n",
        "            print(\"\\tTime : {:.2f}s\".format(total_time))\n",
        "        cluster_times.append(total_time)\n",
        "        speedups.append(cluster_times[0]/total_time)\n",
        "    return pd.DataFrame({'time':cluster_times,'speedup':speedups},index=ncores_range)"
      ],
      "id": "21dccc6c"
    },
    {
      "cell_type": "code",
      "execution_count": 13,
      "metadata": {},
      "outputs": [],
      "source": [
        "from sklearn.metrics import mean_squared_error\n",
        "import plotly.express as px\n",
        "# Function that takes as an argument the result of a run, a \"law\" function,\n",
        "# its parameter s, which corresponds to the estimated \"sequential\" proportion of the run,\n",
        "# the run description, the law description\n",
        "# Displays the comparative view of the run with the law prediction\n",
        "# displays the root-mean-square error between the two\n",
        "# returns previous numerical data\n",
        "def compare_law_and_run(run,law,ncores_range,s,run_description,law_description):\n",
        "    law_pred = [law(N,s) for N in ncores_range]\n",
        "    law_df = pd.DataFrame({law_description:law_pred},index=ncores_range)\n",
        "    MSE = mean_squared_error(run['speedup'][1:],law_pred[1:])\n",
        "    title = \"{} vs {} s={:2f}\".format(law_description,run_description,s)\n",
        "    px.line(pd.concat([run.rename(columns={'speedup':run_description}),law_df],axis=1),\n",
        "            y=[run_description,law_description],\n",
        "            title=title,\n",
        "            labels={\"index\":\"Number of cores\",\n",
        "                    \"value\":\"Speedup over 1 core\",\n",
        "                    \"variable\":\"Law or Run\"},\n",
        "                width=600\n",
        "        \n",
        "        ).show()\n",
        "    print(\"MSE :{:.2e}\".format(MSE))\n",
        "    return pd.Series({'run':run_description,'law':law_description,'s':s,'MSE':MSE}).to_frame().T"
      ],
      "id": "5f4cf95e"
    },
    {
      "cell_type": "markdown",
      "metadata": {},
      "source": [
        "## Amdahl’s law\n",
        "\n",
        "Implement Amdahl’s law in a function `amdahl_func` that takes the number\n",
        "of cores and the proportion of the code that can be parallelized as\n",
        "arguments. The speedup is given by:\n",
        "\n",
        "$$S_{up}=\\frac{1}{s+\\frac{1-s}{N}}$$"
      ],
      "id": "d061987e-ce85-4801-9e4b-00589f7b56d1"
    },
    {
      "cell_type": "code",
      "execution_count": 14,
      "metadata": {},
      "outputs": [],
      "source": [
        "# N = workers number\n",
        "# S = \"sequential part\" of the code (proportion)\n",
        "def amdahl_func(N,S):\n",
        "    return ... # speedup "
      ],
      "id": "6e252109"
    },
    {
      "cell_type": "markdown",
      "metadata": {},
      "source": [
        "## Make the scaling runs"
      ],
      "id": "c20915f2-83b9-44f3-b9f5-c313936f144b"
    },
    {
      "cell_type": "code",
      "execution_count": 16,
      "metadata": {},
      "outputs": [
        {
          "output_type": "stream",
          "name": "stdout",
          "text": [
            "With 1 node(s): \n",
            "    Time : 0.32s\n",
            "With 2 node(s): \n",
            "    Time : 0.17s\n",
            "With 3 node(s): \n",
            "    Time : 0.12s\n",
            "With 4 node(s): \n",
            "    Time : 0.10s\n",
            "With 5 node(s): \n",
            "    Time : 0.08s\n",
            "With 6 node(s): \n",
            "    Time : 0.07s\n",
            "With 7 node(s): \n",
            "    Time : 0.06s\n",
            "With 8 node(s): \n",
            "    Time : 0.05s\n",
            "With 1 node(s): \n",
            "    Time : 0.32s\n",
            "    Time seq : 0.29s\n",
            "With 2 node(s): \n",
            "    Time : 0.29s\n",
            "    Time seq : 0.57s\n",
            "With 3 node(s): \n",
            "    Time : 0.30s\n",
            "    Time seq : 0.86s\n",
            "With 4 node(s): \n",
            "    Time : 0.31s\n",
            "    Time seq : 1.14s\n",
            "With 5 node(s): \n",
            "    Time : 0.32s\n",
            "    Time seq : 1.43s\n",
            "With 6 node(s): \n",
            "    Time : 0.33s\n",
            "    Time seq : 1.73s\n",
            "With 7 node(s): \n",
            "    Time : 0.34s\n",
            "    Time seq : 2.01s\n",
            "With 8 node(s): \n",
            "    Time : 0.34s\n",
            "    Time seq : 2.30s"
          ]
        }
      ],
      "source": [
        "strong_run = strong_scaling_run(strong_scaling_main,range(1,9),10000)\n",
        "weak_run = weak_scaling_run(weak_scaling_main,range(1,9),10000)"
      ],
      "id": "824fd966"
    },
    {
      "cell_type": "markdown",
      "metadata": {},
      "source": [
        "## Plot the results for strong scaling"
      ],
      "id": "85b8c400-50ab-453c-bd80-abc76b589054"
    },
    {
      "cell_type": "code",
      "execution_count": 17,
      "metadata": {},
      "outputs": [
        {
          "output_type": "display_data",
          "metadata": {},
          "data": {
            "text/html": [
              "        <script type=\"text/javascript\">\n",
              "        window.PlotlyConfig = {MathJaxConfig: 'local'};\n",
              "        if (window.MathJax && window.MathJax.Hub && window.MathJax.Hub.Config) {window.MathJax.Hub.Config({SVG: {font: \"STIX-Web\"}});}\n",
              "        </script>\n",
              "        <script type=\"module\">import \"https://cdn.plot.ly/plotly-3.1.0.min\"</script>\n",
              "        "
            ]
          }
        },
        {
          "output_type": "display_data",
          "metadata": {},
          "data": {
            "text/html": [
              "<div>            <script src=\"https://cdnjs.cloudflare.com/ajax/libs/mathjax/2.7.5/MathJax.js?config=TeX-AMS-MML_SVG\"></script><script type=\"text/javascript\">if (window.MathJax && window.MathJax.Hub && window.MathJax.Hub.Config) {window.MathJax.Hub.Config({SVG: {font: \"STIX-Web\"}});}</script>                <script type=\"text/javascript\">window.PlotlyConfig = {MathJaxConfig: 'local'};</script>\n",
              "        <script charset=\"utf-8\" src=\"https://cdn.plot.ly/plotly-3.1.0.min.js\" integrity=\"sha256-Ei4740bWZhaUTQuD6q9yQlgVCMPBz6CZWhevDYPv93A=\" crossorigin=\"anonymous\"></script>                <div id=\"11fdf5d0-1f19-4cd7-aa03-8878e0bf78ad\" class=\"plotly-graph-div\" style=\"height:525px; width:600px;\"></div>            <script type=\"text/javascript\">                window.PLOTLYENV=window.PLOTLYENV || {};                                if (document.getElementById(\"11fdf5d0-1f19-4cd7-aa03-8878e0bf78ad\")) {                    Plotly.newPlot(                        \"11fdf5d0-1f19-4cd7-aa03-8878e0bf78ad\",                        [{\"hovertemplate\":\"Law or Run=Strong run\\u003cbr\\u003eNumber of cores=%{x}\\u003cbr\\u003eSpeedup over 1 core=%{y}\\u003cextra\\u003e\\u003c\\u002fextra\\u003e\",\"legendgroup\":\"Strong run\",\"line\":{\"color\":\"#636efa\",\"dash\":\"solid\"},\"marker\":{\"symbol\":\"circle\"},\"mode\":\"lines\",\"name\":\"Strong run\",\"orientation\":\"v\",\"showlegend\":true,\"x\":{\"dtype\":\"i1\",\"bdata\":\"AQIDBAUGBwg=\"},\"xaxis\":\"x\",\"y\":{\"dtype\":\"f8\",\"bdata\":\"AAAAAAAA8D+sZ5GHXl79PwhkTtl1cwVAtVlXK0tdCUB1RHvasOkPQPV4PEwS1BFA6PH8HnDsFECKfWOtiEEYQA==\"},\"yaxis\":\"y\",\"type\":\"scatter\"},{\"hovertemplate\":\"Law or Run=Amdahl\\u003cbr\\u003eNumber of cores=%{x}\\u003cbr\\u003eSpeedup over 1 core=%{y}\\u003cextra\\u003e\\u003c\\u002fextra\\u003e\",\"legendgroup\":\"Amdahl\",\"line\":{\"color\":\"#EF553B\",\"dash\":\"solid\"},\"marker\":{\"symbol\":\"circle\"},\"mode\":\"lines\",\"name\":\"Amdahl\",\"orientation\":\"v\",\"showlegend\":true,\"x\":{\"dtype\":\"i1\",\"bdata\":\"AQIDBAUGBwg=\"},\"xaxis\":\"x\",\"y\":{\"dtype\":\"f8\",\"bdata\":\"AAAAAAAA8D8AAAAAAAAAQAAAAAAAAAhAAAAAAAAAEEAAAAAAAAAUQAAAAAAAABhAAAAAAAAAHEAAAAAAAAAgQA==\"},\"yaxis\":\"y\",\"type\":\"scatter\"}],                        {\"template\":{\"data\":{\"histogram2dcontour\":[{\"type\":\"histogram2dcontour\",\"colorbar\":{\"outlinewidth\":0,\"ticks\":\"\"},\"colorscale\":[[0.0,\"#0d0887\"],[0.1111111111111111,\"#46039f\"],[0.2222222222222222,\"#7201a8\"],[0.3333333333333333,\"#9c179e\"],[0.4444444444444444,\"#bd3786\"],[0.5555555555555556,\"#d8576b\"],[0.6666666666666666,\"#ed7953\"],[0.7777777777777778,\"#fb9f3a\"],[0.8888888888888888,\"#fdca26\"],[1.0,\"#f0f921\"]]}],\"choropleth\":[{\"type\":\"choropleth\",\"colorbar\":{\"outlinewidth\":0,\"ticks\":\"\"}}],\"histogram2d\":[{\"type\":\"histogram2d\",\"colorbar\":{\"outlinewidth\":0,\"ticks\":\"\"},\"colorscale\":[[0.0,\"#0d0887\"],[0.1111111111111111,\"#46039f\"],[0.2222222222222222,\"#7201a8\"],[0.3333333333333333,\"#9c179e\"],[0.4444444444444444,\"#bd3786\"],[0.5555555555555556,\"#d8576b\"],[0.6666666666666666,\"#ed7953\"],[0.7777777777777778,\"#fb9f3a\"],[0.8888888888888888,\"#fdca26\"],[1.0,\"#f0f921\"]]}],\"heatmap\":[{\"type\":\"heatmap\",\"colorbar\":{\"outlinewidth\":0,\"ticks\":\"\"},\"colorscale\":[[0.0,\"#0d0887\"],[0.1111111111111111,\"#46039f\"],[0.2222222222222222,\"#7201a8\"],[0.3333333333333333,\"#9c179e\"],[0.4444444444444444,\"#bd3786\"],[0.5555555555555556,\"#d8576b\"],[0.6666666666666666,\"#ed7953\"],[0.7777777777777778,\"#fb9f3a\"],[0.8888888888888888,\"#fdca26\"],[1.0,\"#f0f921\"]]}],\"contourcarpet\":[{\"type\":\"contourcarpet\",\"colorbar\":{\"outlinewidth\":0,\"ticks\":\"\"}}],\"contour\":[{\"type\":\"contour\",\"colorbar\":{\"outlinewidth\":0,\"ticks\":\"\"},\"colorscale\":[[0.0,\"#0d0887\"],[0.1111111111111111,\"#46039f\"],[0.2222222222222222,\"#7201a8\"],[0.3333333333333333,\"#9c179e\"],[0.4444444444444444,\"#bd3786\"],[0.5555555555555556,\"#d8576b\"],[0.6666666666666666,\"#ed7953\"],[0.7777777777777778,\"#fb9f3a\"],[0.8888888888888888,\"#fdca26\"],[1.0,\"#f0f921\"]]}],\"surface\":[{\"type\":\"surface\",\"colorbar\":{\"outlinewidth\":0,\"ticks\":\"\"},\"colorscale\":[[0.0,\"#0d0887\"],[0.1111111111111111,\"#46039f\"],[0.2222222222222222,\"#7201a8\"],[0.3333333333333333,\"#9c179e\"],[0.4444444444444444,\"#bd3786\"],[0.5555555555555556,\"#d8576b\"],[0.6666666666666666,\"#ed7953\"],[0.7777777777777778,\"#fb9f3a\"],[0.8888888888888888,\"#fdca26\"],[1.0,\"#f0f921\"]]}],\"mesh3d\":[{\"type\":\"mesh3d\",\"colorbar\":{\"outlinewidth\":0,\"ticks\":\"\"}}],\"scatter\":[{\"fillpattern\":{\"fillmode\":\"overlay\",\"size\":10,\"solidity\":0.2},\"type\":\"scatter\"}],\"parcoords\":[{\"type\":\"parcoords\",\"line\":{\"colorbar\":{\"outlinewidth\":0,\"ticks\":\"\"}}}],\"scatterpolargl\":[{\"type\":\"scatterpolargl\",\"marker\":{\"colorbar\":{\"outlinewidth\":0,\"ticks\":\"\"}}}],\"bar\":[{\"error_x\":{\"color\":\"#2a3f5f\"},\"error_y\":{\"color\":\"#2a3f5f\"},\"marker\":{\"line\":{\"color\":\"#E5ECF6\",\"width\":0.5},\"pattern\":{\"fillmode\":\"overlay\",\"size\":10,\"solidity\":0.2}},\"type\":\"bar\"}],\"scattergeo\":[{\"type\":\"scattergeo\",\"marker\":{\"colorbar\":{\"outlinewidth\":0,\"ticks\":\"\"}}}],\"scatterpolar\":[{\"type\":\"scatterpolar\",\"marker\":{\"colorbar\":{\"outlinewidth\":0,\"ticks\":\"\"}}}],\"histogram\":[{\"marker\":{\"pattern\":{\"fillmode\":\"overlay\",\"size\":10,\"solidity\":0.2}},\"type\":\"histogram\"}],\"scattergl\":[{\"type\":\"scattergl\",\"marker\":{\"colorbar\":{\"outlinewidth\":0,\"ticks\":\"\"}}}],\"scatter3d\":[{\"type\":\"scatter3d\",\"line\":{\"colorbar\":{\"outlinewidth\":0,\"ticks\":\"\"}},\"marker\":{\"colorbar\":{\"outlinewidth\":0,\"ticks\":\"\"}}}],\"scattermap\":[{\"type\":\"scattermap\",\"marker\":{\"colorbar\":{\"outlinewidth\":0,\"ticks\":\"\"}}}],\"scattermapbox\":[{\"type\":\"scattermapbox\",\"marker\":{\"colorbar\":{\"outlinewidth\":0,\"ticks\":\"\"}}}],\"scatterternary\":[{\"type\":\"scatterternary\",\"marker\":{\"colorbar\":{\"outlinewidth\":0,\"ticks\":\"\"}}}],\"scattercarpet\":[{\"type\":\"scattercarpet\",\"marker\":{\"colorbar\":{\"outlinewidth\":0,\"ticks\":\"\"}}}],\"carpet\":[{\"aaxis\":{\"endlinecolor\":\"#2a3f5f\",\"gridcolor\":\"white\",\"linecolor\":\"white\",\"minorgridcolor\":\"white\",\"startlinecolor\":\"#2a3f5f\"},\"baxis\":{\"endlinecolor\":\"#2a3f5f\",\"gridcolor\":\"white\",\"linecolor\":\"white\",\"minorgridcolor\":\"white\",\"startlinecolor\":\"#2a3f5f\"},\"type\":\"carpet\"}],\"table\":[{\"cells\":{\"fill\":{\"color\":\"#EBF0F8\"},\"line\":{\"color\":\"white\"}},\"header\":{\"fill\":{\"color\":\"#C8D4E3\"},\"line\":{\"color\":\"white\"}},\"type\":\"table\"}],\"barpolar\":[{\"marker\":{\"line\":{\"color\":\"#E5ECF6\",\"width\":0.5},\"pattern\":{\"fillmode\":\"overlay\",\"size\":10,\"solidity\":0.2}},\"type\":\"barpolar\"}],\"pie\":[{\"automargin\":true,\"type\":\"pie\"}]},\"layout\":{\"autotypenumbers\":\"strict\",\"colorway\":[\"#636efa\",\"#EF553B\",\"#00cc96\",\"#ab63fa\",\"#FFA15A\",\"#19d3f3\",\"#FF6692\",\"#B6E880\",\"#FF97FF\",\"#FECB52\"],\"font\":{\"color\":\"#2a3f5f\"},\"hovermode\":\"closest\",\"hoverlabel\":{\"align\":\"left\"},\"paper_bgcolor\":\"white\",\"plot_bgcolor\":\"#E5ECF6\",\"polar\":{\"bgcolor\":\"#E5ECF6\",\"angularaxis\":{\"gridcolor\":\"white\",\"linecolor\":\"white\",\"ticks\":\"\"},\"radialaxis\":{\"gridcolor\":\"white\",\"linecolor\":\"white\",\"ticks\":\"\"}},\"ternary\":{\"bgcolor\":\"#E5ECF6\",\"aaxis\":{\"gridcolor\":\"white\",\"linecolor\":\"white\",\"ticks\":\"\"},\"baxis\":{\"gridcolor\":\"white\",\"linecolor\":\"white\",\"ticks\":\"\"},\"caxis\":{\"gridcolor\":\"white\",\"linecolor\":\"white\",\"ticks\":\"\"}},\"coloraxis\":{\"colorbar\":{\"outlinewidth\":0,\"ticks\":\"\"}},\"colorscale\":{\"sequential\":[[0.0,\"#0d0887\"],[0.1111111111111111,\"#46039f\"],[0.2222222222222222,\"#7201a8\"],[0.3333333333333333,\"#9c179e\"],[0.4444444444444444,\"#bd3786\"],[0.5555555555555556,\"#d8576b\"],[0.6666666666666666,\"#ed7953\"],[0.7777777777777778,\"#fb9f3a\"],[0.8888888888888888,\"#fdca26\"],[1.0,\"#f0f921\"]],\"sequentialminus\":[[0.0,\"#0d0887\"],[0.1111111111111111,\"#46039f\"],[0.2222222222222222,\"#7201a8\"],[0.3333333333333333,\"#9c179e\"],[0.4444444444444444,\"#bd3786\"],[0.5555555555555556,\"#d8576b\"],[0.6666666666666666,\"#ed7953\"],[0.7777777777777778,\"#fb9f3a\"],[0.8888888888888888,\"#fdca26\"],[1.0,\"#f0f921\"]],\"diverging\":[[0,\"#8e0152\"],[0.1,\"#c51b7d\"],[0.2,\"#de77ae\"],[0.3,\"#f1b6da\"],[0.4,\"#fde0ef\"],[0.5,\"#f7f7f7\"],[0.6,\"#e6f5d0\"],[0.7,\"#b8e186\"],[0.8,\"#7fbc41\"],[0.9,\"#4d9221\"],[1,\"#276419\"]]},\"xaxis\":{\"gridcolor\":\"white\",\"linecolor\":\"white\",\"ticks\":\"\",\"title\":{\"standoff\":15},\"zerolinecolor\":\"white\",\"automargin\":true,\"zerolinewidth\":2},\"yaxis\":{\"gridcolor\":\"white\",\"linecolor\":\"white\",\"ticks\":\"\",\"title\":{\"standoff\":15},\"zerolinecolor\":\"white\",\"automargin\":true,\"zerolinewidth\":2},\"scene\":{\"xaxis\":{\"backgroundcolor\":\"#E5ECF6\",\"gridcolor\":\"white\",\"linecolor\":\"white\",\"showbackground\":true,\"ticks\":\"\",\"zerolinecolor\":\"white\",\"gridwidth\":2},\"yaxis\":{\"backgroundcolor\":\"#E5ECF6\",\"gridcolor\":\"white\",\"linecolor\":\"white\",\"showbackground\":true,\"ticks\":\"\",\"zerolinecolor\":\"white\",\"gridwidth\":2},\"zaxis\":{\"backgroundcolor\":\"#E5ECF6\",\"gridcolor\":\"white\",\"linecolor\":\"white\",\"showbackground\":true,\"ticks\":\"\",\"zerolinecolor\":\"white\",\"gridwidth\":2}},\"shapedefaults\":{\"line\":{\"color\":\"#2a3f5f\"}},\"annotationdefaults\":{\"arrowcolor\":\"#2a3f5f\",\"arrowhead\":0,\"arrowwidth\":1},\"geo\":{\"bgcolor\":\"white\",\"landcolor\":\"#E5ECF6\",\"subunitcolor\":\"white\",\"showland\":true,\"showlakes\":true,\"lakecolor\":\"white\"},\"title\":{\"x\":0.05},\"mapbox\":{\"style\":\"light\"},\"margin\":{\"b\":0,\"l\":0,\"r\":0,\"t\":30}}},\"xaxis\":{\"anchor\":\"y\",\"domain\":[0.0,1.0],\"title\":{\"text\":\"Number of cores\"}},\"yaxis\":{\"anchor\":\"x\",\"domain\":[0.0,1.0],\"title\":{\"text\":\"Speedup over 1 core\"}},\"legend\":{\"title\":{\"text\":\"Law or Run\"},\"tracegroupgap\":0},\"title\":{\"text\":\"Amdahl vs Strong run s=0.000000\"},\"width\":600},                        {\"responsive\": true}                    ).then(function(){\n",
              "                            \n",
              "var gd = document.getElementById('11fdf5d0-1f19-4cd7-aa03-8878e0bf78ad');\n",
              "var x = new MutationObserver(function (mutations, observer) {{\n",
              "        var display = window.getComputedStyle(gd).display;\n",
              "        if (!display || display === 'none') {{\n",
              "            console.log([gd, 'removed!']);\n",
              "            Plotly.purge(gd);\n",
              "            observer.disconnect();\n",
              "        }}\n",
              "}});\n",
              "\n",
              "// Listen for the removal of the full notebook cells\n",
              "var notebookContainer = gd.closest('#notebook-container');\n",
              "if (notebookContainer) {{\n",
              "    x.observe(notebookContainer, {childList: true});\n",
              "}}\n",
              "\n",
              "// Listen for the clearing of the current output cell\n",
              "var outputEl = gd.closest('.output');\n",
              "if (outputEl) {{\n",
              "    x.observe(outputEl, {childList: true});\n",
              "}}\n",
              "\n",
              "                        })                };            </script>        </div>"
            ]
          }
        },
        {
          "output_type": "stream",
          "name": "stdout",
          "text": [
            "MSE :1.59e+00"
          ]
        },
        {
          "output_type": "display_data",
          "metadata": {},
          "data": {
            "text/html": [
              "\n",
              "</div>"
            ]
          }
        }
      ],
      "source": [
        "compare_law_and_run(strong_run,amdahl_func,range(1,9),0,\"Strong run\",\"Amdahl\")"
      ],
      "id": "a69e2b26"
    },
    {
      "cell_type": "markdown",
      "metadata": {},
      "source": [
        "## Finding the real “S” part"
      ],
      "id": "9eef08b5-e41c-4b11-b54d-9d2e855bae14"
    },
    {
      "cell_type": "code",
      "execution_count": 18,
      "metadata": {},
      "outputs": [],
      "source": [
        "def find_s_amdahl(strong_run):\n",
        "    return ... # s"
      ],
      "id": "8071ba84"
    },
    {
      "cell_type": "markdown",
      "metadata": {},
      "source": [
        "## Now compare the law and the run with the real “s” part"
      ],
      "id": "8d1e9dca-39e3-42f6-a805-acd062e7bb0b"
    },
    {
      "cell_type": "code",
      "execution_count": 20,
      "metadata": {},
      "outputs": [
        {
          "output_type": "display_data",
          "metadata": {},
          "data": {
            "text/html": [
              "<div>            <script src=\"https://cdnjs.cloudflare.com/ajax/libs/mathjax/2.7.5/MathJax.js?config=TeX-AMS-MML_SVG\"></script><script type=\"text/javascript\">if (window.MathJax && window.MathJax.Hub && window.MathJax.Hub.Config) {window.MathJax.Hub.Config({SVG: {font: \"STIX-Web\"}});}</script>                <script type=\"text/javascript\">window.PlotlyConfig = {MathJaxConfig: 'local'};</script>\n",
              "        <script charset=\"utf-8\" src=\"https://cdn.plot.ly/plotly-3.1.0.min.js\" integrity=\"sha256-Ei4740bWZhaUTQuD6q9yQlgVCMPBz6CZWhevDYPv93A=\" crossorigin=\"anonymous\"></script>                <div id=\"839917ac-29cb-42ee-a741-4bbcfa946ed6\" class=\"plotly-graph-div\" style=\"height:525px; width:600px;\"></div>            <script type=\"text/javascript\">                window.PLOTLYENV=window.PLOTLYENV || {};                                if (document.getElementById(\"839917ac-29cb-42ee-a741-4bbcfa946ed6\")) {                    Plotly.newPlot(                        \"839917ac-29cb-42ee-a741-4bbcfa946ed6\",                        [{\"hovertemplate\":\"Law or Run=Strong run\\u003cbr\\u003eNumber of cores=%{x}\\u003cbr\\u003eSpeedup over 1 core=%{y}\\u003cextra\\u003e\\u003c\\u002fextra\\u003e\",\"legendgroup\":\"Strong run\",\"line\":{\"color\":\"#636efa\",\"dash\":\"solid\"},\"marker\":{\"symbol\":\"circle\"},\"mode\":\"lines\",\"name\":\"Strong run\",\"orientation\":\"v\",\"showlegend\":true,\"x\":{\"dtype\":\"i1\",\"bdata\":\"AQIDBAUGBwg=\"},\"xaxis\":\"x\",\"y\":{\"dtype\":\"f8\",\"bdata\":\"AAAAAAAA8D+sZ5GHXl79PwhkTtl1cwVAtVlXK0tdCUB1RHvasOkPQPV4PEwS1BFA6PH8HnDsFECKfWOtiEEYQA==\"},\"yaxis\":\"y\",\"type\":\"scatter\"},{\"hovertemplate\":\"Law or Run=Amdahl\\u003cbr\\u003eNumber of cores=%{x}\\u003cbr\\u003eSpeedup over 1 core=%{y}\\u003cextra\\u003e\\u003c\\u002fextra\\u003e\",\"legendgroup\":\"Amdahl\",\"line\":{\"color\":\"#EF553B\",\"dash\":\"solid\"},\"marker\":{\"symbol\":\"circle\"},\"mode\":\"lines\",\"name\":\"Amdahl\",\"orientation\":\"v\",\"showlegend\":true,\"x\":{\"dtype\":\"i1\",\"bdata\":\"AQIDBAUGBwg=\"},\"xaxis\":\"x\",\"y\":{\"dtype\":\"f8\",\"bdata\":\"AAAAAAAA8D8yE06Hq5r+P\\u002fyOglpo\\u002fgVAhL\\u002fCegYmDECwRWIADOoQQC90g\\u002fATixNAKqZXO+j7FUCKfWOtiEEYQA==\"},\"yaxis\":\"y\",\"type\":\"scatter\"}],                        {\"template\":{\"data\":{\"histogram2dcontour\":[{\"type\":\"histogram2dcontour\",\"colorbar\":{\"outlinewidth\":0,\"ticks\":\"\"},\"colorscale\":[[0.0,\"#0d0887\"],[0.1111111111111111,\"#46039f\"],[0.2222222222222222,\"#7201a8\"],[0.3333333333333333,\"#9c179e\"],[0.4444444444444444,\"#bd3786\"],[0.5555555555555556,\"#d8576b\"],[0.6666666666666666,\"#ed7953\"],[0.7777777777777778,\"#fb9f3a\"],[0.8888888888888888,\"#fdca26\"],[1.0,\"#f0f921\"]]}],\"choropleth\":[{\"type\":\"choropleth\",\"colorbar\":{\"outlinewidth\":0,\"ticks\":\"\"}}],\"histogram2d\":[{\"type\":\"histogram2d\",\"colorbar\":{\"outlinewidth\":0,\"ticks\":\"\"},\"colorscale\":[[0.0,\"#0d0887\"],[0.1111111111111111,\"#46039f\"],[0.2222222222222222,\"#7201a8\"],[0.3333333333333333,\"#9c179e\"],[0.4444444444444444,\"#bd3786\"],[0.5555555555555556,\"#d8576b\"],[0.6666666666666666,\"#ed7953\"],[0.7777777777777778,\"#fb9f3a\"],[0.8888888888888888,\"#fdca26\"],[1.0,\"#f0f921\"]]}],\"heatmap\":[{\"type\":\"heatmap\",\"colorbar\":{\"outlinewidth\":0,\"ticks\":\"\"},\"colorscale\":[[0.0,\"#0d0887\"],[0.1111111111111111,\"#46039f\"],[0.2222222222222222,\"#7201a8\"],[0.3333333333333333,\"#9c179e\"],[0.4444444444444444,\"#bd3786\"],[0.5555555555555556,\"#d8576b\"],[0.6666666666666666,\"#ed7953\"],[0.7777777777777778,\"#fb9f3a\"],[0.8888888888888888,\"#fdca26\"],[1.0,\"#f0f921\"]]}],\"contourcarpet\":[{\"type\":\"contourcarpet\",\"colorbar\":{\"outlinewidth\":0,\"ticks\":\"\"}}],\"contour\":[{\"type\":\"contour\",\"colorbar\":{\"outlinewidth\":0,\"ticks\":\"\"},\"colorscale\":[[0.0,\"#0d0887\"],[0.1111111111111111,\"#46039f\"],[0.2222222222222222,\"#7201a8\"],[0.3333333333333333,\"#9c179e\"],[0.4444444444444444,\"#bd3786\"],[0.5555555555555556,\"#d8576b\"],[0.6666666666666666,\"#ed7953\"],[0.7777777777777778,\"#fb9f3a\"],[0.8888888888888888,\"#fdca26\"],[1.0,\"#f0f921\"]]}],\"surface\":[{\"type\":\"surface\",\"colorbar\":{\"outlinewidth\":0,\"ticks\":\"\"},\"colorscale\":[[0.0,\"#0d0887\"],[0.1111111111111111,\"#46039f\"],[0.2222222222222222,\"#7201a8\"],[0.3333333333333333,\"#9c179e\"],[0.4444444444444444,\"#bd3786\"],[0.5555555555555556,\"#d8576b\"],[0.6666666666666666,\"#ed7953\"],[0.7777777777777778,\"#fb9f3a\"],[0.8888888888888888,\"#fdca26\"],[1.0,\"#f0f921\"]]}],\"mesh3d\":[{\"type\":\"mesh3d\",\"colorbar\":{\"outlinewidth\":0,\"ticks\":\"\"}}],\"scatter\":[{\"fillpattern\":{\"fillmode\":\"overlay\",\"size\":10,\"solidity\":0.2},\"type\":\"scatter\"}],\"parcoords\":[{\"type\":\"parcoords\",\"line\":{\"colorbar\":{\"outlinewidth\":0,\"ticks\":\"\"}}}],\"scatterpolargl\":[{\"type\":\"scatterpolargl\",\"marker\":{\"colorbar\":{\"outlinewidth\":0,\"ticks\":\"\"}}}],\"bar\":[{\"error_x\":{\"color\":\"#2a3f5f\"},\"error_y\":{\"color\":\"#2a3f5f\"},\"marker\":{\"line\":{\"color\":\"#E5ECF6\",\"width\":0.5},\"pattern\":{\"fillmode\":\"overlay\",\"size\":10,\"solidity\":0.2}},\"type\":\"bar\"}],\"scattergeo\":[{\"type\":\"scattergeo\",\"marker\":{\"colorbar\":{\"outlinewidth\":0,\"ticks\":\"\"}}}],\"scatterpolar\":[{\"type\":\"scatterpolar\",\"marker\":{\"colorbar\":{\"outlinewidth\":0,\"ticks\":\"\"}}}],\"histogram\":[{\"marker\":{\"pattern\":{\"fillmode\":\"overlay\",\"size\":10,\"solidity\":0.2}},\"type\":\"histogram\"}],\"scattergl\":[{\"type\":\"scattergl\",\"marker\":{\"colorbar\":{\"outlinewidth\":0,\"ticks\":\"\"}}}],\"scatter3d\":[{\"type\":\"scatter3d\",\"line\":{\"colorbar\":{\"outlinewidth\":0,\"ticks\":\"\"}},\"marker\":{\"colorbar\":{\"outlinewidth\":0,\"ticks\":\"\"}}}],\"scattermap\":[{\"type\":\"scattermap\",\"marker\":{\"colorbar\":{\"outlinewidth\":0,\"ticks\":\"\"}}}],\"scattermapbox\":[{\"type\":\"scattermapbox\",\"marker\":{\"colorbar\":{\"outlinewidth\":0,\"ticks\":\"\"}}}],\"scatterternary\":[{\"type\":\"scatterternary\",\"marker\":{\"colorbar\":{\"outlinewidth\":0,\"ticks\":\"\"}}}],\"scattercarpet\":[{\"type\":\"scattercarpet\",\"marker\":{\"colorbar\":{\"outlinewidth\":0,\"ticks\":\"\"}}}],\"carpet\":[{\"aaxis\":{\"endlinecolor\":\"#2a3f5f\",\"gridcolor\":\"white\",\"linecolor\":\"white\",\"minorgridcolor\":\"white\",\"startlinecolor\":\"#2a3f5f\"},\"baxis\":{\"endlinecolor\":\"#2a3f5f\",\"gridcolor\":\"white\",\"linecolor\":\"white\",\"minorgridcolor\":\"white\",\"startlinecolor\":\"#2a3f5f\"},\"type\":\"carpet\"}],\"table\":[{\"cells\":{\"fill\":{\"color\":\"#EBF0F8\"},\"line\":{\"color\":\"white\"}},\"header\":{\"fill\":{\"color\":\"#C8D4E3\"},\"line\":{\"color\":\"white\"}},\"type\":\"table\"}],\"barpolar\":[{\"marker\":{\"line\":{\"color\":\"#E5ECF6\",\"width\":0.5},\"pattern\":{\"fillmode\":\"overlay\",\"size\":10,\"solidity\":0.2}},\"type\":\"barpolar\"}],\"pie\":[{\"automargin\":true,\"type\":\"pie\"}]},\"layout\":{\"autotypenumbers\":\"strict\",\"colorway\":[\"#636efa\",\"#EF553B\",\"#00cc96\",\"#ab63fa\",\"#FFA15A\",\"#19d3f3\",\"#FF6692\",\"#B6E880\",\"#FF97FF\",\"#FECB52\"],\"font\":{\"color\":\"#2a3f5f\"},\"hovermode\":\"closest\",\"hoverlabel\":{\"align\":\"left\"},\"paper_bgcolor\":\"white\",\"plot_bgcolor\":\"#E5ECF6\",\"polar\":{\"bgcolor\":\"#E5ECF6\",\"angularaxis\":{\"gridcolor\":\"white\",\"linecolor\":\"white\",\"ticks\":\"\"},\"radialaxis\":{\"gridcolor\":\"white\",\"linecolor\":\"white\",\"ticks\":\"\"}},\"ternary\":{\"bgcolor\":\"#E5ECF6\",\"aaxis\":{\"gridcolor\":\"white\",\"linecolor\":\"white\",\"ticks\":\"\"},\"baxis\":{\"gridcolor\":\"white\",\"linecolor\":\"white\",\"ticks\":\"\"},\"caxis\":{\"gridcolor\":\"white\",\"linecolor\":\"white\",\"ticks\":\"\"}},\"coloraxis\":{\"colorbar\":{\"outlinewidth\":0,\"ticks\":\"\"}},\"colorscale\":{\"sequential\":[[0.0,\"#0d0887\"],[0.1111111111111111,\"#46039f\"],[0.2222222222222222,\"#7201a8\"],[0.3333333333333333,\"#9c179e\"],[0.4444444444444444,\"#bd3786\"],[0.5555555555555556,\"#d8576b\"],[0.6666666666666666,\"#ed7953\"],[0.7777777777777778,\"#fb9f3a\"],[0.8888888888888888,\"#fdca26\"],[1.0,\"#f0f921\"]],\"sequentialminus\":[[0.0,\"#0d0887\"],[0.1111111111111111,\"#46039f\"],[0.2222222222222222,\"#7201a8\"],[0.3333333333333333,\"#9c179e\"],[0.4444444444444444,\"#bd3786\"],[0.5555555555555556,\"#d8576b\"],[0.6666666666666666,\"#ed7953\"],[0.7777777777777778,\"#fb9f3a\"],[0.8888888888888888,\"#fdca26\"],[1.0,\"#f0f921\"]],\"diverging\":[[0,\"#8e0152\"],[0.1,\"#c51b7d\"],[0.2,\"#de77ae\"],[0.3,\"#f1b6da\"],[0.4,\"#fde0ef\"],[0.5,\"#f7f7f7\"],[0.6,\"#e6f5d0\"],[0.7,\"#b8e186\"],[0.8,\"#7fbc41\"],[0.9,\"#4d9221\"],[1,\"#276419\"]]},\"xaxis\":{\"gridcolor\":\"white\",\"linecolor\":\"white\",\"ticks\":\"\",\"title\":{\"standoff\":15},\"zerolinecolor\":\"white\",\"automargin\":true,\"zerolinewidth\":2},\"yaxis\":{\"gridcolor\":\"white\",\"linecolor\":\"white\",\"ticks\":\"\",\"title\":{\"standoff\":15},\"zerolinecolor\":\"white\",\"automargin\":true,\"zerolinewidth\":2},\"scene\":{\"xaxis\":{\"backgroundcolor\":\"#E5ECF6\",\"gridcolor\":\"white\",\"linecolor\":\"white\",\"showbackground\":true,\"ticks\":\"\",\"zerolinecolor\":\"white\",\"gridwidth\":2},\"yaxis\":{\"backgroundcolor\":\"#E5ECF6\",\"gridcolor\":\"white\",\"linecolor\":\"white\",\"showbackground\":true,\"ticks\":\"\",\"zerolinecolor\":\"white\",\"gridwidth\":2},\"zaxis\":{\"backgroundcolor\":\"#E5ECF6\",\"gridcolor\":\"white\",\"linecolor\":\"white\",\"showbackground\":true,\"ticks\":\"\",\"zerolinecolor\":\"white\",\"gridwidth\":2}},\"shapedefaults\":{\"line\":{\"color\":\"#2a3f5f\"}},\"annotationdefaults\":{\"arrowcolor\":\"#2a3f5f\",\"arrowhead\":0,\"arrowwidth\":1},\"geo\":{\"bgcolor\":\"white\",\"landcolor\":\"#E5ECF6\",\"subunitcolor\":\"white\",\"showland\":true,\"showlakes\":true,\"lakecolor\":\"white\"},\"title\":{\"x\":0.05},\"mapbox\":{\"style\":\"light\"},\"margin\":{\"b\":0,\"l\":0,\"r\":0,\"t\":30}}},\"xaxis\":{\"anchor\":\"y\",\"domain\":[0.0,1.0],\"title\":{\"text\":\"Number of cores\"}},\"yaxis\":{\"anchor\":\"x\",\"domain\":[0.0,1.0],\"title\":{\"text\":\"Speedup over 1 core\"}},\"legend\":{\"title\":{\"text\":\"Law or Run\"},\"tracegroupgap\":0},\"title\":{\"text\":\"Amdahl vs Strong run s=0.045609\"},\"width\":600},                        {\"responsive\": true}                    ).then(function(){\n",
              "                            \n",
              "var gd = document.getElementById('839917ac-29cb-42ee-a741-4bbcfa946ed6');\n",
              "var x = new MutationObserver(function (mutations, observer) {{\n",
              "        var display = window.getComputedStyle(gd).display;\n",
              "        if (!display || display === 'none') {{\n",
              "            console.log([gd, 'removed!']);\n",
              "            Plotly.purge(gd);\n",
              "            observer.disconnect();\n",
              "        }}\n",
              "}});\n",
              "\n",
              "// Listen for the removal of the full notebook cells\n",
              "var notebookContainer = gd.closest('#notebook-container');\n",
              "if (notebookContainer) {{\n",
              "    x.observe(notebookContainer, {childList: true});\n",
              "}}\n",
              "\n",
              "// Listen for the clearing of the current output cell\n",
              "var outputEl = gd.closest('.output');\n",
              "if (outputEl) {{\n",
              "    x.observe(outputEl, {childList: true});\n",
              "}}\n",
              "\n",
              "                        })                };            </script>        </div>"
            ]
          }
        },
        {
          "output_type": "stream",
          "name": "stdout",
          "text": [
            "MSE :6.33e-02"
          ]
        },
        {
          "output_type": "display_data",
          "metadata": {},
          "data": {
            "text/html": [
              "\n",
              "</div>"
            ]
          }
        }
      ],
      "source": [
        "s_strong = find_s_amdahl(strong_run)\n",
        "compare_law_and_run(strong_run,amdahl_func,range(1,9),s_strong,\"Strong run\",\"Amdahl\")"
      ],
      "id": "47cc8230"
    },
    {
      "cell_type": "markdown",
      "metadata": {},
      "source": [
        "## Apply it to weak scaling and gustafson’s law\n",
        "\n",
        "Recalculate real s for weak scaling\n",
        "\n",
        "## Discussion\n",
        "\n",
        "Why the Sequential part is not the same for strong and weak scaling?"
      ],
      "id": "ad83e411-550d-4c39-83d7-61dea207ca61"
    }
  ],
  "nbformat": 4,
  "nbformat_minor": 5,
  "metadata": {
    "kernelspec": {
      "name": "python3",
      "display_name": "Python 3 (ipykernel)",
      "language": "python",
      "path": "/Users/fradav/Documents/Dev/Python/Cours-programmation-MIASHS-2025/.venv/share/jupyter/kernels/python3"
    },
    "language_info": {
      "name": "python",
      "codemirror_mode": {
        "name": "ipython",
        "version": "3"
      },
      "file_extension": ".py",
      "mimetype": "text/x-python",
      "nbconvert_exporter": "python",
      "pygments_lexer": "ipython3",
      "version": "3.13.2"
    }
  }
}