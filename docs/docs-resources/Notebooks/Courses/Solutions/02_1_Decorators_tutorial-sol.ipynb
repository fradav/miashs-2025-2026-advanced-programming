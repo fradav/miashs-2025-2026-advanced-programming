{
  "cells": [
    {
      "cell_type": "markdown",
      "metadata": {},
      "source": [
        "# Decorators Tutorial\n",
        "\n",
        "François-David Collin (CNRS, IMAG, Paul-Valéry Montpellier 3\n",
        "University)  \n",
        "Wednesday, August 27, 2025\n",
        "\n",
        "## Decorators\n",
        "\n",
        "Decorators are a way to modify or extend the behavior of functions or\n",
        "methods. They are a form of metaprogramming and can be used to add\n",
        "functionality to existing functions or methods without modifying their\n",
        "code. Decorators are a powerful tool in Python and are widely used in\n",
        "libraries and frameworks.\n",
        "\n",
        "In Python, decorators are implemented using the `@` symbol followed by\n",
        "the decorator function name. Decorators can be used to add functionality\n",
        "such as logging, timing, caching, access control, and more to functions\n",
        "or methods.\n",
        "\n",
        "In this tutorial, we will explore how decorators work and how to create\n",
        "and use them in Python.\n",
        "\n",
        "## Creating a Decorator\n",
        "\n",
        "To create a decorator, we define a function that takes another function\n",
        "as an argument and returns a new function that wraps the original\n",
        "function. The new function can modify the behavior of the original\n",
        "function by adding additional functionality before or after it is\n",
        "called.\n",
        "\n",
        "Here is an example of a simple decorator that prints a message before\n",
        "and after calling a function:"
      ],
      "id": "5e89d9ec-3eb9-42a5-8a70-d7127ef2c632"
    },
    {
      "cell_type": "code",
      "execution_count": 1,
      "metadata": {},
      "outputs": [
        {
          "output_type": "stream",
          "name": "stdout",
          "text": [
            "Before calling the function\n",
            "Hello, world!\n",
            "After calling the function"
          ]
        }
      ],
      "source": [
        "def my_decorator(func):\n",
        "    def wrapper():\n",
        "        print(\"Before calling the function\")\n",
        "        func()\n",
        "        print(\"After calling the function\")\n",
        "    return wrapper\n",
        "\n",
        "@my_decorator\n",
        "def say_hello():\n",
        "    print(\"Hello, world!\")\n",
        "\n",
        "say_hello()"
      ],
      "id": "1dfb8231"
    },
    {
      "cell_type": "markdown",
      "metadata": {},
      "source": [
        "In this example, the `my_decorator` function takes a function `func` as\n",
        "an argument and returns a new function `wrapper` that prints a message\n",
        "before and after calling the original function. The `@my_decorator`\n",
        "syntax is used to apply the decorator to the `say_hello` function.\n",
        "\n",
        "## Decorator with Arguments\n",
        "\n",
        "Decorators can also take arguments to customize their behavior. To\n",
        "create a decorator with arguments, we need to define a function that\n",
        "returns a decorator function. The decorator function then takes the\n",
        "original function as an argument and returns a new function that wraps\n",
        "the original function.\n",
        "\n",
        "Here is an example of a decorator with arguments that prints a message\n",
        "with a custom prefix before and after calling a function:"
      ],
      "id": "63db6d54-d4c4-416b-a1d4-4fa11e081fb4"
    },
    {
      "cell_type": "code",
      "execution_count": 2,
      "metadata": {},
      "outputs": [
        {
          "output_type": "stream",
          "name": "stdout",
          "text": [
            "INFO: Before calling the function\n",
            "Hello, world!\n",
            "INFO: After calling the function"
          ]
        }
      ],
      "source": [
        "def prefix_decorator(prefix):\n",
        "    def decorator(func):\n",
        "        def wrapper():\n",
        "            print(f\"{prefix}: Before calling the function\")\n",
        "            func()\n",
        "            print(f\"{prefix}: After calling the function\")\n",
        "        return wrapper\n",
        "    return decorator\n",
        "\n",
        "@prefix_decorator(\"INFO\")\n",
        "def say_hello():\n",
        "    print(\"Hello, world!\")\n",
        "\n",
        "say_hello()"
      ],
      "id": "2e039279"
    },
    {
      "cell_type": "markdown",
      "metadata": {},
      "source": [
        "In this example, the `prefix_decorator` function takes an argument\n",
        "`prefix` and returns a decorator function that prints a message with the\n",
        "specified prefix. The `@prefix_decorator(\"INFO\")` syntax is used to\n",
        "apply the decorator with the prefix “INFO” to the `say_hello` function.\n",
        "\n",
        "## Decorator Classes\n",
        "\n",
        "Decorators can also be implemented using classes. To create a decorator\n",
        "class, we define a class with a `__call__` method that takes the\n",
        "original function as an argument and returns a new function that wraps\n",
        "the original function.\n",
        "\n",
        "Here is an example of a decorator implemented as a class that prints a\n",
        "message before and after calling a function:"
      ],
      "id": "b6c30f1c-89a7-4a4c-b94e-1994868d8aa7"
    },
    {
      "cell_type": "code",
      "execution_count": 3,
      "metadata": {},
      "outputs": [
        {
          "output_type": "stream",
          "name": "stdout",
          "text": [
            "Before calling the function\n",
            "Hello, world!\n",
            "After calling the function"
          ]
        }
      ],
      "source": [
        "class MyDecorator:\n",
        "    def __init__(self, func):\n",
        "        self.func = func\n",
        "\n",
        "    def __call__(self):\n",
        "        print(\"Before calling the function\")\n",
        "        self.func()\n",
        "        print(\"After calling the function\")\n",
        "\n",
        "@MyDecorator\n",
        "def say_hello():\n",
        "    print(\"Hello, world!\")\n",
        "\n",
        "say_hello()"
      ],
      "id": "aadeab2e"
    },
    {
      "cell_type": "markdown",
      "metadata": {},
      "source": [
        "In this example, the `MyDecorator` class defines an `__init__` method\n",
        "that takes the original function `func` as an argument and an `__call__`\n",
        "method that wraps the original function. The `@MyDecorator` syntax is\n",
        "used to apply the decorator to the `say_hello` function.\n",
        "\n",
        "## Conclusion\n",
        "\n",
        "Decorators are a powerful feature in Python that allow us to modify or\n",
        "extend the behavior of functions or methods. They are widely used in\n",
        "Python libraries and frameworks to add functionality such as logging,\n",
        "timing, caching, access control, and more. By understanding how\n",
        "decorators work and how to create and use them, we can write more\n",
        "flexible and reusable code in Python.\n",
        "\n",
        "In this tutorial, we explored how to create decorators, how to create\n",
        "decorators with arguments, and how to create decorators using classes.\n",
        "We also discussed some common use cases for decorators and how they can\n",
        "be used to add functionality to existing functions or methods.\n",
        "\n",
        "Decorators are a versatile tool in Python and can be used to solve a\n",
        "wide range of problems. By mastering decorators, we can write more\n",
        "concise, readable, and maintainable code in Python.\n",
        "\n",
        "## References\n",
        "\n",
        "-   [Python\n",
        "    Decorators](https://docs.python.org/3/glossary.html#term-decorator)\n",
        "-   [Real Python - Primer on Python\n",
        "    Decorators](https://realpython.com/primer-on-python-decorators/)\n",
        "-   [Python Wiki - Python\n",
        "    Decorators](https://wiki.python.org/moin/PythonDecorators)\n",
        "-   [Python Decorator\n",
        "    Library](https://wiki.python.org/moin/PythonDecoratorLibrary)\n",
        "-   [Python Decorator\n",
        "    Tutorial](https://www.datacamp.com/community/tutorials/decorators-python)\n",
        "-   [Python Decorator\n",
        "    Examples](https://www.programiz.com/python-programming/decorator)\n",
        "-   [Python Decorator\n",
        "    Patterns](https://python-patterns.guide/gang-of-four/decorator-pattern/)\n",
        "-   [Python Decorator Design\n",
        "    Patterns](https://refactoring.guru/design-patterns/decorator/python/example)\n",
        "-   [Python Decorator\n",
        "    Cookbook](https://python-3-patterns-idioms-test.readthedocs.io/en/latest/PythonDecorators.html)\n",
        "-   [Python Decorator\n",
        "    Recipes](https://python-3-patterns-idioms-test.readthedocs.io/en/latest/PythonDecorators.html#recipes)"
      ],
      "id": "a73fbdf7-a5b1-4cc7-8dfc-e1e8e29db4b1"
    }
  ],
  "nbformat": 4,
  "nbformat_minor": 5,
  "metadata": {
    "kernelspec": {
      "name": "python3",
      "display_name": "Python 3 (ipykernel)",
      "language": "python",
      "path": "/Users/fradav/Documents/Dev/Python/Cours-programmation-MIASHS-2025/.venv/share/jupyter/kernels/python3"
    },
    "language_info": {
      "name": "python",
      "codemirror_mode": {
        "name": "ipython",
        "version": "3"
      },
      "file_extension": ".py",
      "mimetype": "text/x-python",
      "nbconvert_exporter": "python",
      "pygments_lexer": "ipython3",
      "version": "3.13.2"
    }
  }
}