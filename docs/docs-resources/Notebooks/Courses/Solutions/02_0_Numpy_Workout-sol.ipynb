{
  "cells": [
    {
      "cell_type": "markdown",
      "metadata": {},
      "source": [
        "# Numpy Workout\n",
        "\n",
        "A short remainder on `numpy` with exercises\n",
        "\n",
        "François-David Collin (CNRS, IMAG, Paul-Valéry Montpellier 3\n",
        "University)  \n",
        "Wednesday, August 27, 2025\n",
        "\n",
        "# Starting slowly\n",
        "\n",
        "Short application about `numpy`, just a refresh\n",
        "\n",
        "## Some loops"
      ],
      "id": "060ae523-8587-45f3-afab-5ffe0408fd10"
    },
    {
      "cell_type": "code",
      "execution_count": 2,
      "metadata": {},
      "outputs": [],
      "source": [
        "import numpy as np\n",
        "\n",
        "a = np.random.rand(100)\n",
        "b = np.random.rand(100)"
      ],
      "id": "3c9668b5"
    },
    {
      "cell_type": "markdown",
      "metadata": {},
      "source": [
        "## Dot product\n",
        "\n",
        "Exercises:\n",
        "\n",
        "1.  numpy dot product of a and b\n",
        "2.  write manual loop\n",
        "3.  compare results"
      ],
      "id": "b4191a8d-6e89-4926-a1b4-668dd2c94243"
    },
    {
      "cell_type": "code",
      "execution_count": 3,
      "metadata": {
        "tags": [
          "solution"
        ]
      },
      "outputs": [
        {
          "output_type": "display_data",
          "metadata": {},
          "data": {
            "text/plain": [
              "np.float64(22.71023158072769)"
            ]
          }
        }
      ],
      "source": [
        "np.dot(a,b)"
      ],
      "id": "872ce862"
    },
    {
      "cell_type": "code",
      "execution_count": 4,
      "metadata": {
        "tags": [
          "solution"
        ]
      },
      "outputs": [
        {
          "output_type": "display_data",
          "metadata": {},
          "data": {
            "text/plain": [
              "np.float64(22.710231580727694)"
            ]
          }
        }
      ],
      "source": [
        "resdot=0\n",
        "for i in range(100):\n",
        "    resdot += a[i]*b[i]\n",
        "resdot"
      ],
      "id": "146b3ec2"
    },
    {
      "cell_type": "markdown",
      "metadata": {},
      "source": [
        "## Matrix product\n",
        "\n",
        "Exercice:\n",
        "\n",
        "1.  Generate 2 random matrix $5 \\times 5$\n",
        "2.  Numpy matrix product of both\n",
        "3.  Manual loop, compare result\n",
        "4.  Manual loop with numpy dot product of row-column, conpare resurt\n",
        "\n",
        "Use `np.testing` with the right assert function for comparison purpose."
      ],
      "id": "ee8142cb-4812-414f-83f1-225c8a9650b6"
    },
    {
      "cell_type": "code",
      "execution_count": 5,
      "metadata": {
        "tags": [
          "solution"
        ]
      },
      "outputs": [],
      "source": [
        "A = np.random.rand(5,5)\n",
        "B = np.random.rand(5,5)"
      ],
      "id": "3194948b"
    },
    {
      "cell_type": "code",
      "execution_count": 6,
      "metadata": {
        "tags": [
          "solution"
        ]
      },
      "outputs": [],
      "source": [
        "C = A @ B"
      ],
      "id": "9bf77ba7"
    },
    {
      "cell_type": "code",
      "execution_count": 7,
      "metadata": {
        "tags": [
          "solution"
        ]
      },
      "outputs": [],
      "source": [
        "Cres = np.zeros((5,5))\n",
        "for i in range(5):\n",
        "    for j in range(5):\n",
        "        for k in range(5):\n",
        "            Cres[i,j] += A[i,k] * B[k,j]\n",
        "np.testing.assert_array_almost_equal(Cres,C)"
      ],
      "id": "5bf13428"
    },
    {
      "cell_type": "code",
      "execution_count": 8,
      "metadata": {
        "tags": [
          "solution"
        ]
      },
      "outputs": [],
      "source": [
        "Cres = np.zeros((5,5))\n",
        "for i in range(5):\n",
        "    for j in range(5):\n",
        "        Cres[i,j] = np.dot(A[i],B[:,j])\n",
        "np.testing.assert_array_almost_equal(Cres,C)"
      ],
      "id": "a3c7d915"
    },
    {
      "cell_type": "markdown",
      "metadata": {},
      "source": [
        "## Colum-wise sum"
      ],
      "id": "092f7cd8-6e96-46a3-8b6c-b6c482245aad"
    },
    {
      "cell_type": "code",
      "execution_count": 9,
      "metadata": {},
      "outputs": [
        {
          "output_type": "display_data",
          "metadata": {},
          "data": {
            "text/plain": [
              "array([[0, 1, 2, 3, 4],\n",
              "       [5, 6, 7, 8, 9]])"
            ]
          }
        }
      ],
      "source": [
        "D = np.arange(10).reshape(2,5)\n",
        "D"
      ],
      "id": "3f6ffe04"
    },
    {
      "cell_type": "markdown",
      "metadata": {},
      "source": [
        "Exercise:\n",
        "\n",
        "1.  Col-wise sum of D with numpy\n",
        "2.  the same with loop(s), compare results"
      ],
      "id": "dac76bb0-2096-4496-bd50-bd0185a4eb52"
    },
    {
      "cell_type": "code",
      "execution_count": 10,
      "metadata": {
        "tags": [
          "solution"
        ]
      },
      "outputs": [
        {
          "output_type": "display_data",
          "metadata": {},
          "data": {
            "text/plain": [
              "array([ 5,  7,  9, 11, 13])"
            ]
          }
        }
      ],
      "source": [
        "Drowsum = np.sum(D,axis=0)\n",
        "Drowsum"
      ],
      "id": "b6d3f3a5"
    },
    {
      "cell_type": "code",
      "execution_count": 11,
      "metadata": {
        "tags": [
          "solution"
        ]
      },
      "outputs": [],
      "source": [
        "Drowsumres = np.zeros(5)\n",
        "for j in range(5):\n",
        "    for i in range(2):\n",
        "        Drowsumres[j] += D[i,j]\n",
        "np.testing.assert_array_equal(Drowsum,Drowsumres)"
      ],
      "id": "5eec7665"
    },
    {
      "cell_type": "markdown",
      "metadata": {},
      "source": [
        "# Ramping up, sequence searching\n",
        "\n",
        "A frequent in image processing is to find a precise pattern in a given\n",
        "image. We will restrict ourselves to the one-dimensional case (a list of\n",
        "positive integers), and we will first try to implement this algorithm.\n",
        "\n",
        "We want a function that takes as argument two unidimensional numpy\n",
        "arrays, the first contains the data, and the second the sequence we want\n",
        "to find in the data. The function returns the list of indices in the\n",
        "array of data, indices which correspond to the start of each subsequence\n",
        "of data identical to the sequence we are searching for.\n",
        "\n",
        "## Illustration\n",
        "\n",
        "<figure>\n",
        "<img src=\"attachment:../tikz-figures/sequence-search.svg\"\n",
        "alt=\"Sequence search\" />\n",
        "<figcaption aria-hidden=\"true\">Sequence search</figcaption>\n",
        "</figure>\n",
        "\n",
        "## First blocks"
      ],
      "attachments": {
        "../tikz-figures/sequence-search.svg": {
          "image/svg+xml": "PD94bWwgdmVyc2lvbj0nMS4wJyBlbmNvZGluZz0nVVRGLTgnPz4KPCEtLSBUaGlzIGZpbGUgd2Fz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\nPC9nPgo8L2c+CjwvZz4KPC9zdmc+\n"
        }
      },
      "id": "5286ab95-5afb-4bdc-9db3-731817b4e5cd"
    },
    {
      "cell_type": "code",
      "execution_count": 12,
      "metadata": {},
      "outputs": [],
      "source": [
        "data = np.array([1,3,2,0,1,9,2,0,1,1,0],dtype=np.uint8)\n",
        "sequence = np.array([0,1],dtype=np.uint8)"
      ],
      "id": "2e6e3765"
    },
    {
      "cell_type": "markdown",
      "metadata": {},
      "source": [
        "We want to get\n",
        "\n",
        "``` python\n",
        "numpy_search_sequence(data,séquence)\n",
        "```\n",
        "\n",
        "``` python\n",
        "array([3, 7], dtype=int64)\n",
        "```\n",
        "\n",
        "## Exercise\n",
        "\n",
        "First create an increasing list of indices avec `np.arange` with the\n",
        "same size of the search sequence\n",
        "\n",
        "``` python\n",
        "seq_size = \n",
        "seq_ind = \n",
        "```"
      ],
      "id": "bc2b20fd-99ef-494a-8f3c-8bff62f6d3f7"
    },
    {
      "cell_type": "code",
      "execution_count": 13,
      "metadata": {
        "tags": [
          "solution"
        ]
      },
      "outputs": [
        {
          "output_type": "display_data",
          "metadata": {},
          "data": {
            "text/plain": [
              "array([0, 1])"
            ]
          }
        }
      ],
      "source": [
        "seq_size = sequence.size\n",
        "seq_ind = np.arange(seq_size)\n",
        "seq_ind"
      ],
      "id": "01419505"
    },
    {
      "cell_type": "markdown",
      "metadata": {},
      "source": [
        "Call `data_size` the size of the input data.\n",
        "\n",
        "We now want a list of increasing indices from 0 to `data_size-seq_size`,\n",
        "but transformed into a column vector thanks to `reshape` of numpy. Call\n",
        "`data_ind` this column vector (dimesion `(data_size-seq_size+1,1)`).\n",
        "\n",
        "``` python\n",
        "data_size =\n",
        "cor_size = data_size-seq_size+1\n",
        "data_ind = \n",
        "```"
      ],
      "id": "50a70afa-45f8-4959-b8a6-6270e0d1d89b"
    },
    {
      "cell_type": "code",
      "execution_count": 14,
      "metadata": {
        "tags": [
          "solution"
        ]
      },
      "outputs": [
        {
          "output_type": "display_data",
          "metadata": {},
          "data": {
            "text/plain": [
              "array([[0],\n",
              "       [1],\n",
              "       [2],\n",
              "       [3],\n",
              "       [4],\n",
              "       [5],\n",
              "       [6],\n",
              "       [7],\n",
              "       [8],\n",
              "       [9]])"
            ]
          }
        }
      ],
      "source": [
        "data_size = data.size\n",
        "cor_size = data_size-seq_size+1\n",
        "data_ind = np.arange(cor_size).reshape((cor_size,1))\n",
        "data_ind"
      ],
      "id": "c3e61e06"
    },
    {
      "cell_type": "markdown",
      "metadata": {},
      "source": [
        "## Broadcasting\n",
        "\n",
        "We will then use numpy’s *broadcasting* rules to create a vector of\n",
        "dimension `(data_size-seq_size+1,2)` which contains the list of all\n",
        "possible adjacent sequences of indices that we want to locate in the\n",
        "data as follows:\n",
        "\n",
        "``` python\n",
        "array([[ 0,  1],\n",
        "       [ 1,  2],\n",
        "       [ 2,  3],\n",
        "       [ 3,  4],\n",
        "       [ 4,  5],\n",
        "       [ 5,  6],\n",
        "       [ 6,  7],\n",
        "       [ 7,  8],\n",
        "       [ 8,  9],\n",
        "       [ 9, 10]])\n",
        "```\n",
        "\n",
        "What very simple operation to perform on `data_ind` and `seq_ind` to get\n",
        "this?\n",
        "\n",
        "— [official numpy\n",
        "doc](https://numpy.org/doc/stable/user/basics.broadcasting.html)\n",
        "\n",
        "— [french\n",
        "explanation](https://nbhosting.inria.fr/builds/ue12-python-numerique/handouts/latest/2-05-numpy-broadcast.html)"
      ],
      "id": "85fc62af-9de6-41c2-bce6-c102f7203b06"
    },
    {
      "cell_type": "code",
      "execution_count": 15,
      "metadata": {
        "tags": [
          "solution"
        ]
      },
      "outputs": [
        {
          "output_type": "display_data",
          "metadata": {},
          "data": {
            "text/plain": [
              "array([[ 0,  1],\n",
              "       [ 1,  2],\n",
              "       [ 2,  3],\n",
              "       [ 3,  4],\n",
              "       [ 4,  5],\n",
              "       [ 5,  6],\n",
              "       [ 6,  7],\n",
              "       [ 7,  8],\n",
              "       [ 8,  9],\n",
              "       [ 9, 10]])"
            ]
          }
        }
      ],
      "source": [
        "data_ind + seq_ind"
      ],
      "id": "b530f42d"
    },
    {
      "cell_type": "markdown",
      "metadata": {},
      "source": [
        "(10,1) and (2,) are compatible because the first array `data_ind`\n",
        "contains an unit dimension on the right, the *broadcasting*, it will\n",
        "first “stretch” on this dimension to match that of `seq_ind`, then\n",
        "*broadcast* the addition of `seq_ind` over the ten lines, the first\n",
        "element of `ind_seq` being added to the first element of a line, then\n",
        "the second element of `seq_ind` adding to the second element of the\n",
        "corresponding row. The operation is thus repeated on each line.\n",
        "\n",
        "## Indice expression\n",
        "\n",
        "Using the result of the previous question as indices for the array of\n",
        "`data`, apply the search for sequences that are correctly *matched* with\n",
        "a simple operator. Explain why the result has the same dimension\n",
        "(*shape*) as `data_ind` and not as `data`.\n",
        "\n",
        "``` python\n",
        "array([[False, False],\n",
        "       [False, False],\n",
        "       [False, False],\n",
        "       [ True,  True],\n",
        "       [False, False],\n",
        "       [False, False],\n",
        "       [False, False],\n",
        "       [ True,  True],\n",
        "       [False,  True],\n",
        "       [False, False]])\n",
        "```"
      ],
      "id": "88a5b16b-7476-4656-9769-bcdb55fd2554"
    },
    {
      "cell_type": "code",
      "execution_count": 16,
      "metadata": {
        "tags": [
          "solution"
        ]
      },
      "outputs": [
        {
          "output_type": "display_data",
          "metadata": {},
          "data": {
            "text/plain": [
              "array([[False, False],\n",
              "       [False, False],\n",
              "       [False, False],\n",
              "       [ True,  True],\n",
              "       [False, False],\n",
              "       [False, False],\n",
              "       [False, False],\n",
              "       [ True,  True],\n",
              "       [False,  True],\n",
              "       [False, False]])"
            ]
          }
        }
      ],
      "source": [
        "data[data_ind + seq_ind] == sequence"
      ],
      "id": "9f23c77b"
    },
    {
      "cell_type": "markdown",
      "metadata": {},
      "source": [
        "It is the array `data_ind + seq_ind` which is used to *index* the array\n",
        "of `data`, the corresponding indices are simply used on `data` to\n",
        "provide the result. Next, numpy performs a *broadcasting* with the `==`\n",
        "operator which returns a boolean for each element *broadcasted* from\n",
        "both sides (as before, first element of each line of the first operand\n",
        "on first element of the sequence to match, etc.)\n",
        "\n",
        "## Final match\n",
        "\n",
        "Now we are looking for all lines having a perfect match, ie only `True`.\n",
        "Use the `np.all` function for this\n",
        "\n",
        "``` python\n",
        "array([False, False, False,  True, False, False, False,  True, False,\n",
        "       False])\n",
        "```"
      ],
      "id": "d4ee9243-2cd6-458c-a950-b114a2743fbe"
    },
    {
      "cell_type": "code",
      "execution_count": 17,
      "metadata": {
        "tags": [
          "solution"
        ]
      },
      "outputs": [
        {
          "output_type": "display_data",
          "metadata": {},
          "data": {
            "text/plain": [
              "array([False, False, False,  True, False, False, False,  True, False,\n",
              "       False])"
            ]
          }
        }
      ],
      "source": [
        "np.all(data[data_ind + seq_ind] == sequence,1)"
      ],
      "id": "861a34f2"
    },
    {
      "cell_type": "markdown",
      "metadata": {},
      "source": [
        "## Indice extraction\n",
        "\n",
        "Finally we now extract the indices where there is “match” thanks to\n",
        "`np.nonzero`\n",
        "\n",
        "``` python\n",
        "array([3, 7], dtype=int64)\n",
        "```"
      ],
      "id": "75aa3401-362b-40f6-a3ca-fb0887f0c781"
    },
    {
      "cell_type": "code",
      "execution_count": 18,
      "metadata": {
        "tags": [
          "solution"
        ]
      },
      "outputs": [
        {
          "output_type": "display_data",
          "metadata": {},
          "data": {
            "text/plain": [
              "array([3, 7])"
            ]
          }
        }
      ],
      "source": [
        "np.nonzero(np.all(data[data_ind + seq_ind] == sequence,1))[0]"
      ],
      "id": "8c12b130"
    },
    {
      "cell_type": "markdown",
      "metadata": {},
      "source": [
        "## External resources\n",
        "\n",
        "-   Exercises from [numpy-100](https://github.com/rougier/numpy-100)\n",
        "-   Data Sciences oriented exercises there [101 NumPy Exercises for Data\n",
        "    Analysis\n",
        "    (Python)](https://www.machinelearningplus.com/python/101-numpy-exercises-python/)\n",
        "-   [W3Schools numpy\n",
        "    exercises](https://www.w3schools.com/python/numpy/numpy_exercises.asp)"
      ],
      "id": "47a8bf5f-1919-4bfe-9c97-65cc122150f5"
    }
  ],
  "nbformat": 4,
  "nbformat_minor": 5,
  "metadata": {
    "kernelspec": {
      "name": "python3",
      "display_name": "Python 3 (ipykernel)",
      "language": "python",
      "path": "/Users/fradav/Documents/Dev/Python/Cours-programmation-MIASHS-2025/.venv/share/jupyter/kernels/python3"
    },
    "language_info": {
      "name": "python",
      "codemirror_mode": {
        "name": "ipython",
        "version": "3"
      },
      "file_extension": ".py",
      "mimetype": "text/x-python",
      "nbconvert_exporter": "python",
      "pygments_lexer": "ipython3",
      "version": "3.13.2"
    }
  }
}