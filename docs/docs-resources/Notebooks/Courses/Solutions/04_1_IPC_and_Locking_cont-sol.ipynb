{
  "cells": [
    {
      "cell_type": "markdown",
      "metadata": {},
      "source": [
        "# Locking with `multiprocessing.Value`\n",
        "\n",
        "François-David Collin (CNRS, IMAG, Paul-Valéry Montpellier 3\n",
        "University)  \n",
        "Wednesday, August 27, 2025\n",
        "\n",
        "Take look at [Python Documentation on\n",
        "`multiprocessing.Value`](https://docs.python.org/3/library/multiprocessing.html#multiprocessing.Value)\n",
        "\n",
        "Write a simple worker fonction which takes a `multiprocessing.Value` and\n",
        "a `max_count` argument, and increment the value by one `max_count`\n",
        "times:\n",
        "\n",
        "``` python\n",
        "import multiprocessing\n",
        "\n",
        "def work(value, max_count):\n",
        "    ...\n",
        "```"
      ],
      "id": "b13bc2dd-262f-406e-9c93-7a3b823379da"
    },
    {
      "cell_type": "code",
      "execution_count": 3,
      "metadata": {
        "tags": [
          "solution"
        ]
      },
      "outputs": [],
      "source": [
        "import multiprocessing\n",
        "\n",
        "def work(value, max_count):\n",
        "    for n in range(max_count):\n",
        "        value.value += 1"
      ],
      "id": "564832ae"
    },
    {
      "cell_type": "markdown",
      "metadata": {},
      "source": [
        "1.  Write a main function instantiating an integer\n",
        "    `multiprocessing.Value` initialized to zero and run `ncores` workers\n",
        "    incrementing each `N` times the value one by one.\n",
        "2.  Display the expected final value and the value calculated.\n",
        "3.  Run it on `(8,100000)` (or even bigger). Replace `8` by the actual\n",
        "    number of physical cores on the cpu you’re running on.\n",
        "\n",
        "``` python\n",
        "def run_workers(ncores,N):\n",
        "    total_expected_count = ncores * N\n",
        "    ...\n",
        "```"
      ],
      "id": "193f2d61-d0c0-425b-9211-cf2e90c42a54"
    },
    {
      "cell_type": "code",
      "execution_count": 4,
      "metadata": {
        "tags": [
          "solution"
        ]
      },
      "outputs": [],
      "source": [
        "def run_workers(ncores,N):\n",
        "    total_expected_count = ncores * N\n",
        "    processes = []\n",
        "    value = multiprocessing.Value('i', 0)\n",
        "    for process_nbr in range(ncores):\n",
        "        p = multiprocessing.Process(target=work, args=(value, N))\n",
        "        p.start()\n",
        "        processes.append(p)\n",
        "\n",
        "    # wait for the processes to finish\n",
        "    for p in processes:\n",
        "        p.join()\n",
        "\n",
        "    # print the final value\n",
        "    print(\"Expecting to see a count of {}\".format(total_expected_count))\n",
        "    print(\"We have counted to {}\".format(value.value))"
      ],
      "id": "aa0a6815"
    },
    {
      "cell_type": "markdown",
      "metadata": {},
      "source": [
        "> **Note**\n",
        ">\n",
        "> We may use a simplified version with `multiprocessing.Pool` and `map`\n",
        "> to avoid the manual process management. However, to do so, we have to\n",
        "> use the manager version of `multiprocessing.Value` which is (way)\n",
        "> slower."
      ],
      "id": "6db91824-43ef-40e3-aa17-861d6f10bdfd"
    },
    {
      "cell_type": "code",
      "execution_count": 5,
      "metadata": {
        "tags": [
          "solution"
        ]
      },
      "outputs": [
        {
          "output_type": "stream",
          "name": "stdout",
          "text": [
            "Expecting to see a count of 800000\n",
            "We have counted to 156208"
          ]
        }
      ],
      "source": [
        "run_workers(8,100000)"
      ],
      "id": "36eff99b"
    },
    {
      "cell_type": "markdown",
      "metadata": {},
      "source": [
        "## Explanation\n",
        "\n",
        "1.  Disassemble the worker function and try to look where locks occurs,\n",
        "    according the reference documentation on `multiprocessing.Value`.\n",
        "    The actual loading (resp. storing) of the value are done by\n",
        "    `LOAD_ATTR` (resp. `STORE_ATTR`).  \n",
        "    2. Explain the result\n",
        "\n",
        "``` python\n",
        "import dis\n",
        "\n",
        "dis.dis(work)\n",
        "```"
      ],
      "id": "e51f3e68-3767-4d30-bcfb-06f73fa37186"
    },
    {
      "cell_type": "code",
      "execution_count": 6,
      "metadata": {
        "tags": [
          "solution"
        ]
      },
      "outputs": [
        {
          "output_type": "stream",
          "name": "stdout",
          "text": [
            "  3           RESUME                   0\n",
            "\n",
            "  4           LOAD_GLOBAL              1 (range + NULL)\n",
            "              LOAD_FAST                1 (max_count)\n",
            "              CALL                     1\n",
            "              GET_ITER\n",
            "      L1:     FOR_ITER                24 (to L2)\n",
            "              STORE_FAST               2 (n)\n",
            "\n",
            "  5           LOAD_FAST                0 (value)\n",
            "              COPY                     1\n",
            "              LOAD_ATTR                2 (value)\n",
            "              LOAD_CONST               1 (1)\n",
            "              BINARY_OP               13 (+=)\n",
            "              SWAP                     2\n",
            "              STORE_ATTR               1 (value)\n",
            "              JUMP_BACKWARD           26 (to L1)\n",
            "\n",
            "  4   L2:     END_FOR\n",
            "              POP_TOP\n",
            "              RETURN_CONST             0 (None)"
          ]
        }
      ],
      "source": [
        "import dis\n",
        "\n",
        "dis.dis(work)"
      ],
      "id": "398ac779"
    },
    {
      "cell_type": "markdown",
      "metadata": {},
      "source": [
        "``` plain\n",
        "  5          12 LOAD_FAST                0 (value)\n",
        "             14 DUP_TOP\n",
        "                                                        #<--- Value lock acquired             \n",
        "             16 LOAD_ATTR                1 (value)\n",
        "                                                        #<--- Value lock released\n",
        "             18 LOAD_CONST               1 (1)\n",
        "             20 INPLACE_ADD\n",
        "             22 ROT_TWO\n",
        "                                                        #<--- Value lock acquired\n",
        "             24 STORE_ATTR               1 (value)\n",
        "                                                        #<--- Value lock released\n",
        "             26 JUMP_ABSOLUTE            8\n",
        "        >>   28 LOAD_CONST               0 (None)\n",
        "             30 RETURN_VALUE\n",
        "```\n",
        "\n",
        "At instruction 18 (`18 LOAD_CONST`), nothing prevents another process to\n",
        "load the (old) `value` attribute and be on instruction `18` too. Both\n",
        "processes will proceed incrementing their private copy and writing it\n",
        "back.\n",
        "\n",
        "$\\Rightarrow$ The result: the actual value got incremented only once,\n",
        "not twice.\n",
        "\n",
        "## Counter measure\n",
        "\n",
        "Now, propose a solution. Use the reference documentation to modify the\n",
        "`work` function, and the main function. Test it."
      ],
      "id": "61888a8b-aded-4d58-8122-37f8b2eef0cb"
    },
    {
      "cell_type": "code",
      "execution_count": 7,
      "metadata": {
        "tags": [
          "solution"
        ]
      },
      "outputs": [],
      "source": [
        "def work_lock(value, max_count):\n",
        "    for n in range(max_count):\n",
        "        with value.get_lock():\n",
        "            value.value += 1"
      ],
      "id": "78c4268f"
    },
    {
      "cell_type": "code",
      "execution_count": 8,
      "metadata": {
        "tags": [
          "solution"
        ]
      },
      "outputs": [],
      "source": [
        "def run_workers_locked(ncores,N):\n",
        "    total_expected_count = ncores * N\n",
        "    processes = []\n",
        "    value = multiprocessing.Value('i', 0)\n",
        "    for process_nbr in range(ncores):\n",
        "        p = multiprocessing.Process(target=work_lock, args=(value, N))\n",
        "        p.start()\n",
        "        processes.append(p)\n",
        "\n",
        "    # wait for the processes to finish\n",
        "    for p in processes:\n",
        "        p.join()\n",
        "\n",
        "    # print the final value\n",
        "    print(\"Expecting to see a count of {}\".format(total_expected_count))\n",
        "    print(\"We have counted to {}\".format(value.value))"
      ],
      "id": "05a00aab"
    },
    {
      "cell_type": "code",
      "execution_count": 9,
      "metadata": {
        "tags": [
          "solution"
        ]
      },
      "outputs": [
        {
          "output_type": "stream",
          "name": "stdout",
          "text": [
            "Expecting to see a count of 800000\n",
            "We have counted to 800000"
          ]
        }
      ],
      "source": [
        "run_workers_locked(8,100000)"
      ],
      "id": "5a5bd838"
    },
    {
      "cell_type": "markdown",
      "metadata": {},
      "source": [
        "# Optimization\n",
        "\n",
        "With the manual locking done now, is the native locking of\n",
        "`multiprocessing.Value` still required ? Explain\n",
        "\n",
        "<span class=\"proof-title\">*Solution*. </span>As we already lock\n",
        "the increment operation with both load and store of the value, the fine\n",
        "grained locks of both operation is uneccessary.\n",
        "\n",
        "We now want to use `multiprocessing.RawValue` which is devoid of any\n",
        "lock mechanism, and a manual managed lock from\n",
        "`multiprocessing.manager`.\n",
        "\n",
        "Take a look at [Python Documentation on\n",
        "`multiprocessing.RawValue`](https://docs.python.org/3/library/multiprocessing.html#multiprocessing.sharedctypes.RawValue)\n",
        "\n",
        "1.  Write `work_rawlock` and `run_workers_rawlocked`, with careful\n",
        "    consideration for where to instatiate the lock.\n",
        "2.  Test it\n",
        "3.  Benchmark and compare with the previous, print the speedup."
      ],
      "id": "3951a4a6-1f98-4433-a7ec-5fba22b42bec"
    },
    {
      "cell_type": "code",
      "execution_count": 10,
      "metadata": {
        "tags": [
          "solution"
        ]
      },
      "outputs": [],
      "source": [
        "def work_rawlock(value, max_count,lock):\n",
        "    for n in range(max_count):\n",
        "        with lock:\n",
        "            value.value += 1"
      ],
      "id": "43f0280c"
    },
    {
      "cell_type": "code",
      "execution_count": 11,
      "metadata": {
        "tags": [
          "solution"
        ]
      },
      "outputs": [],
      "source": [
        "def run_workers_rawlocked(ncores,N):\n",
        "    total_expected_count = ncores * N\n",
        "    processes = []\n",
        "    value = multiprocessing.RawValue('i', 0)\n",
        "    lock = multiprocessing.Lock()\n",
        "    for process_nbr in range(ncores):\n",
        "        p = multiprocessing.Process(target=work_rawlock, args=(value, N, lock))\n",
        "        p.start()\n",
        "        processes.append(p)\n",
        "\n",
        "    # wait for the processes to finish\n",
        "    for p in processes:\n",
        "        p.join()\n",
        "\n",
        "    # print the final value\n",
        "    print(\"Expecting to see a count of {}\".format(total_expected_count))\n",
        "    print(\"We have counted to {}\".format(value.value))"
      ],
      "id": "ceeb0d04"
    },
    {
      "cell_type": "code",
      "execution_count": 12,
      "metadata": {
        "tags": [
          "solution"
        ]
      },
      "outputs": [
        {
          "output_type": "stream",
          "name": "stdout",
          "text": [
            "Expecting to see a count of 800000\n",
            "We have counted to 800000"
          ]
        }
      ],
      "source": [
        "run_workers_rawlocked(8,100000)"
      ],
      "id": "e8e83ce3"
    },
    {
      "cell_type": "code",
      "execution_count": 13,
      "metadata": {
        "tags": [
          "solution"
        ]
      },
      "outputs": [
        {
          "output_type": "stream",
          "name": "stdout",
          "text": [
            "Expecting to see a count of 400000\n",
            "We have counted to 400000\n",
            "1.79 s ± 0 ns per loop (mean ± std. dev. of 1 run, 1 loop each)\n",
            "Expecting to see a count of 400000\n",
            "We have counted to 400000\n",
            "1.67 s ± 0 ns per loop (mean ± std. dev. of 1 run, 1 loop each)\n",
            "Gain of multiprocessing.RawValue version : 108%"
          ]
        }
      ],
      "source": [
        "locked_time = %timeit -o -r 1 -n 1 run_workers_locked(4,100000)\n",
        "rawlocked_time = %timeit -o -r 1 -n 1 run_workers_rawlocked(4,100000)\n",
        "\n",
        "print(\"Gain of multiprocessing.RawValue version : {:.0%}\".format(locked_time.average/rawlocked_time.average) )"
      ],
      "id": "2e1dbab7"
    }
  ],
  "nbformat": 4,
  "nbformat_minor": 5,
  "metadata": {
    "kernelspec": {
      "name": "python3",
      "display_name": "Python 3 (ipykernel)",
      "language": "python",
      "path": "/Users/fradav/Documents/Dev/Python/Cours-programmation-MIASHS-2025/.venv/share/jupyter/kernels/python3"
    },
    "language_info": {
      "name": "python",
      "codemirror_mode": {
        "name": "ipython",
        "version": "3"
      },
      "file_extension": ".py",
      "mimetype": "text/x-python",
      "nbconvert_exporter": "python",
      "pygments_lexer": "ipython3",
      "version": "3.13.2"
    }
  }
}