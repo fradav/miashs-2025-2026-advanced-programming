{
  "cells": [
    {
      "cell_type": "markdown",
      "metadata": {},
      "source": [
        "# Multiprocessing in Python 3\n",
        "\n",
        "Introduction to the `multiprocessing` module\n",
        "\n",
        "François-David Collin (CNRS, IMAG, Paul-Valéry Montpellier 3\n",
        "University)  \n",
        "Wednesday, August 27, 2025\n",
        "\n",
        "# Multiprocessing in Python 3\n",
        "\n",
        "## Threads vs Processes\n",
        "\n",
        "-   Thread\n",
        "    -   Is bound to processor that python process running on\n",
        "    -   Is controlled by Global Interpreter Lock (GIL)\n",
        "        -   Single python bytecode executed at a time by any thread\n",
        "-   Process\n",
        "    -   Uses multiple processors\n",
        "    -   Concurrency between threads and processes (local and remote)\n",
        "    -   Ignores GIL"
      ],
      "id": "3e2df361-35dc-4550-aa94-bbcc4b1ef4ae"
    },
    {
      "cell_type": "code",
      "execution_count": 2,
      "metadata": {
        "quarto-private-1": {
          "key": "slideshow",
          "value": {
            "slide_type": "slide"
          }
        }
      },
      "outputs": [],
      "source": [
        "from os import getpid, getppid\n",
        "from time import sleep\n",
        "\n",
        "def printer(val, wait=0):\n",
        "    sleep(wait)\n",
        "    print('Pid: {}, PPid: {}, Value: {}'\n",
        "          .format(getpid(), getppid(), val))"
      ],
      "id": "ad8cc338"
    },
    {
      "cell_type": "markdown",
      "metadata": {},
      "source": [
        "## Process Instantiation\n",
        "\n",
        "Let’s start with most basic example of spawning new process to run a\n",
        "function"
      ],
      "id": "f0807474-6f4f-459f-a28a-a4f5f2e2de00"
    },
    {
      "cell_type": "code",
      "execution_count": 3,
      "metadata": {
        "quarto-private-1": {
          "key": "slideshow",
          "value": {
            "slide_type": ""
          }
        }
      },
      "outputs": [
        {
          "output_type": "stream",
          "name": "stdout",
          "text": [
            "Starting demo..."
          ]
        }
      ],
      "source": [
        "from multiprocessing import Process\n",
        "\n",
        "print('Starting demo...')\n",
        "p = Process(target=printer, args=('hello demo',))\n",
        "p.start()"
      ],
      "id": "7b078f0a"
    },
    {
      "cell_type": "markdown",
      "metadata": {},
      "source": [
        "### Process timing\n",
        "\n",
        "-   Use printer’s delay to see process timing\n",
        "-   Track multiple process objects\n",
        "-   Execute code in main process while chile process is running\n",
        "-   Use Process.join() to wait for processes to finish"
      ],
      "id": "3caf3fea-0871-4460-925b-a4f137310fae"
    },
    {
      "cell_type": "code",
      "execution_count": 4,
      "metadata": {
        "quarto-private-1": {
          "key": "slideshow",
          "value": {
            "slide_type": "subslide"
          }
        }
      },
      "outputs": [
        {
          "output_type": "stream",
          "name": "stdout",
          "text": [
            "Not waiting for proccesses to finish...\n",
            "Pid: 64116, PPid: 64094, Value: hello demo\n",
            "Pid: 64117, PPid: 64094, Value: immediate\n",
            "Pid: 64118, PPid: 64094, Value: delayed\n",
            "Pid: 64119, PPid: 64094, Value: eternity\n",
            "After processes..."
          ]
        }
      ],
      "source": [
        "proc_list = []\n",
        "for values in [('immediate', 0), ('delayed', 2), ('eternity', 5)]:\n",
        "    p = Process(target=printer, args=values)\n",
        "    proc_list.append(p)\n",
        "    p.start()  # start execution of printer\n",
        "\n",
        "print('Not waiting for proccesses to finish...')\n",
        "    \n",
        "[p.join() for p in proc_list]\n",
        "\n",
        "print('After processes...')"
      ],
      "id": "d6c11ac6"
    },
    {
      "cell_type": "markdown",
      "metadata": {},
      "source": [
        "## Process Pool\n",
        "\n",
        "-   Worker processes instead of direct instantiation\n",
        "-   Context manager to handle starting/joining child processes\n",
        "-   Pool.map() works like default python `map(f, args)` function\n",
        "-   Pool.map() Does not unpack args"
      ],
      "id": "25cc7133-4436-43bf-80a2-a05e4e13655a"
    },
    {
      "cell_type": "code",
      "execution_count": 5,
      "metadata": {
        "quarto-private-1": {
          "key": "slideshow",
          "value": {
            "slide_type": "subslide"
          }
        }
      },
      "outputs": [
        {
          "output_type": "stream",
          "name": "stdout",
          "text": [
            "Pid: 64291, PPid: 64094, Value: Its\n",
            "Pid: 64292, PPid: 64094, Value: ('A', 5)\n",
            "Pid: 64293, PPid: 64094, Value: Race"
          ]
        }
      ],
      "source": [
        "from multiprocessing.pool import Pool\n",
        "\n",
        "with Pool(3) as pool:\n",
        "    pool.map(printer, ['Its', ('A', 5), 'Race'])\n",
        "    # each worker process executes one function"
      ],
      "id": "9293ea55"
    },
    {
      "cell_type": "markdown",
      "metadata": {},
      "source": [
        "## Process + args/kwargs iteration with starmap"
      ],
      "id": "7c04ae69-cb03-4a26-9e9e-3647639b3b50"
    },
    {
      "cell_type": "code",
      "execution_count": 6,
      "metadata": {
        "quarto-private-1": {
          "key": "slideshow",
          "value": {
            "slide_type": "fragment"
          }
        }
      },
      "outputs": [
        {
          "output_type": "stream",
          "name": "stdout",
          "text": [
            "Pid: 64295, PPid: 64094, Value: A"
          ]
        }
      ],
      "source": [
        "with Pool(2) as pool:\n",
        "    pool.starmap(printer, [('Its',), ('A', 2), ('Race',)])\n",
        "    # one worker will execute 2 functions, one worker will execute the 'slow' function"
      ],
      "id": "6016a8ad"
    },
    {
      "cell_type": "markdown",
      "metadata": {},
      "source": [
        "## Thread Pool"
      ],
      "id": "4cc9b830-d5e2-4b56-a35d-d4c77ee56891"
    },
    {
      "cell_type": "code",
      "execution_count": 7,
      "metadata": {},
      "outputs": [
        {
          "output_type": "stream",
          "name": "stdout",
          "text": [
            "Pid: 64094, PPid: 64048, Value: Its\n",
            "Pid: 64094, PPid: 64048, Value: A\n",
            "Pid: 64094, PPid: 64048, Value: Race"
          ]
        }
      ],
      "source": [
        "from multiprocessing.pool import ThreadPool\n",
        "\n",
        "# Threadpool instead of process pool, same interface\n",
        "with ThreadPool(2) as pool:\n",
        "    pool.starmap(printer, [('Its', 5), ('A', 10), ('Race', 15)])"
      ],
      "id": "fb56d88b"
    },
    {
      "cell_type": "markdown",
      "metadata": {},
      "source": [
        "## Starmap is the bomb"
      ],
      "id": "9c10ea64-a2fe-4cd9-bb03-c061dbb884a8"
    },
    {
      "cell_type": "code",
      "execution_count": 8,
      "metadata": {
        "quarto-private-1": {
          "key": "slideshow",
          "value": {
            "slide_type": "fragment"
          }
        }
      },
      "outputs": [],
      "source": [
        "def pretend_delete_method(provider, vm_name):\n",
        "    print('Pretend delete: {} on {}. (Pid: {})'\n",
        "          .format(vm_name, provider, getpid()))    \n",
        "    \n",
        "# Assuming we fetched a list of vm names on providers we want to cleanup...\n",
        "example_provider_vm_lists = dict(\n",
        "    vmware=['test_vm_1', 'test_vm_2'],\n",
        "    rhv=['test_vm_3', 'test_vm_4'],\n",
        "    osp=['test_vm_5', 'test_vm_6'],\n",
        ")"
      ],
      "id": "bf80988e"
    },
    {
      "cell_type": "code",
      "execution_count": 9,
      "metadata": {
        "quarto-private-1": {
          "key": "slideshow",
          "value": {
            "slide_type": "subslide"
          }
        }
      },
      "outputs": [
        {
          "output_type": "stream",
          "name": "stdout",
          "text": [
            "Pretend delete: test_vm_1 on vmware. (Pid: 64094)Pretend delete: test_vm_2 on vmware. (Pid: 64094)\n",
            "Pretend delete: test_vm_3 on rhv. (Pid: 64094)\n",
            "Pretend delete: test_vm_5 on osp. (Pid: 64094)\n",
            "Pretend delete: test_vm_6 on osp. (Pid: 64094)\n",
            "Pretend delete: test_vm_4 on rhv. (Pid: 64094)\n"
          ]
        }
      ],
      "source": [
        "# don't hate me for nested comprehension here - building tuples of provider+name\n",
        "from multiprocessing.pool import ThreadPool\n",
        "\n",
        "# Threadpool instead of process pool, same interface\n",
        "with ThreadPool(6) as pool:\n",
        "    pool.starmap(\n",
        "        pretend_delete_method, \n",
        "        [(key, vm) \n",
        "         for key, vms \n",
        "         in example_provider_vm_lists.items() \n",
        "         for vm in vms]\n",
        "    )"
      ],
      "id": "68a2a6c5"
    },
    {
      "cell_type": "markdown",
      "metadata": {},
      "source": [
        "## Locking\n",
        "\n",
        "-   semaphore-type object that can be acquired and released\n",
        "-   When acquired, only thread that has the lock can run\n",
        "-   Necessary when using shared objects"
      ],
      "id": "2be1d2ad-5d78-4d0d-ba73-4987106f6ab4"
    },
    {
      "cell_type": "code",
      "execution_count": 10,
      "metadata": {
        "quarto-private-1": {
          "key": "slideshow",
          "value": {
            "slide_type": "subslide"
          }
        }
      },
      "outputs": [],
      "source": [
        "def not_safe_printing_method(provider, vm_name):\n",
        "        print('Pretend delete: {} on {}. (Pid: {})'\n",
        "              .format(vm_name, provider, getpid()))"
      ],
      "id": "93807129"
    },
    {
      "cell_type": "code",
      "execution_count": 11,
      "metadata": {
        "quarto-private-1": {
          "key": "slideshow",
          "value": {
            "slide_type": "fragment"
          }
        }
      },
      "outputs": [
        {
          "output_type": "stream",
          "name": "stdout",
          "text": [
            "Pretend delete: test_vm_1 on vmware. (Pid: 64886)\n",
            "Pretend delete: test_vm_6 on osp. (Pid: 64886)\n",
            "Pretend delete: test_vm_2 on vmware. (Pid: 64887)\n",
            "Pretend delete: test_vm_3 on rhv. (Pid: 64888)\n",
            "Pretend delete: test_vm_4 on rhv. (Pid: 64889)\n",
            "Pretend delete: test_vm_5 on osp. (Pid: 64890)"
          ]
        }
      ],
      "source": [
        "with Pool(6) as pool:\n",
        "    pool.starmap(\n",
        "        not_safe_printing_method, \n",
        "        [(key, vm) for key, vms in example_provider_vm_lists.items() for vm in vms])"
      ],
      "id": "ab12a253"
    },
    {
      "cell_type": "code",
      "execution_count": 12,
      "metadata": {
        "quarto-private-1": {
          "key": "slideshow",
          "value": {
            "slide_type": "subslide"
          }
        }
      },
      "outputs": [],
      "source": [
        "# Printing is thread safe, but will sometimes print separate messages on the same line (above)\n",
        "# Use a lock around print\n",
        "from multiprocessing import Lock, Manager\n",
        "\n",
        "def safe_printing_method(lock, provider, vm_name):\n",
        "    with lock:\n",
        "        print('Pretend delete: {} on {}. (Pid: {})'\n",
        "              .format(vm_name, provider, getpid()))"
      ],
      "id": "fb508f5e"
    },
    {
      "cell_type": "code",
      "execution_count": 13,
      "metadata": {
        "quarto-private-1": {
          "key": "slideshow",
          "value": {
            "slide_type": "fragment"
          }
        }
      },
      "outputs": [
        {
          "output_type": "stream",
          "name": "stdout",
          "text": [
            "Pretend delete: test_vm_1 on vmware. (Pid: 64894)\n",
            "Pretend delete: test_vm_2 on vmware. (Pid: 64893)\n",
            "Pretend delete: test_vm_3 on rhv. (Pid: 64895)\n",
            "Pretend delete: test_vm_4 on rhv. (Pid: 64896)\n",
            "Pretend delete: test_vm_5 on osp. (Pid: 64897)"
          ]
        }
      ],
      "source": [
        "with Manager() as manager:\n",
        "    lock = manager.Lock()\n",
        "    with Pool(6) as pool:\n",
        "        pool.starmap(\n",
        "            safe_printing_method, \n",
        "            [(lock, key, vm) for key, vms in example_provider_vm_lists.items() for vm in vms])"
      ],
      "id": "74317f97"
    },
    {
      "cell_type": "markdown",
      "metadata": {},
      "source": [
        "# Queues\n",
        "\n",
        "-   Store data/objects in child thread/processes and retrieve in parent\n",
        "-   FIFO stack with put, get, and empty methods"
      ],
      "id": "ff7828bb-178a-4397-a676-5352254550be"
    },
    {
      "cell_type": "code",
      "execution_count": 14,
      "metadata": {},
      "outputs": [
        {
          "output_type": "stream",
          "name": "stdout",
          "text": [
            "Members of the queue:\n",
            "0 1 2 3 \n",
            "Size of the queue:\n",
            "4"
          ]
        }
      ],
      "source": [
        "# Standard Queue\n",
        "import queue\n",
        "q = queue.Queue()\n",
        "for x in range(4):\n",
        "    q.put(x)\n",
        "print(\"Members of the queue:\")\n",
        "y=z=q.qsize()\n",
        "\n",
        "for n in list(q.queue):\n",
        "    print(n, end=\" \")\n",
        "print(\"\\nSize of the queue:\")\n",
        "print(q.qsize())"
      ],
      "id": "02dfc3af"
    },
    {
      "cell_type": "markdown",
      "metadata": {},
      "source": [
        "# Reminder on python serialization : “Pickling”\n",
        "\n",
        "So what is pickling? Pickling is the serializing and de-serializing of\n",
        "python objects to a byte stream. Unpicking is the opposite.\n",
        "\n",
        "Pickling is used to store python objects. This means things like lists,\n",
        "dictionaries, class objects, and more."
      ],
      "id": "26d77332-406d-42ba-89ea-d2c29146c15a"
    },
    {
      "cell_type": "code",
      "execution_count": 15,
      "metadata": {
        "cell_style": "center",
        "quarto-private-1": {
          "key": "slideshow",
          "value": {
            "slide_type": "fragment"
          }
        }
      },
      "outputs": [],
      "source": [
        "import pickle # First, import pickle to use it"
      ],
      "id": "a6343733"
    },
    {
      "cell_type": "code",
      "execution_count": 16,
      "metadata": {
        "cell_style": "center",
        "quarto-private-1": {
          "key": "slideshow",
          "value": {
            "slide_type": "fragment"
          }
        }
      },
      "outputs": [],
      "source": [
        "example_dict = {1:\"6\",2:\"2\",3:\"f\"} # we define an example dictionary, which is a Python object"
      ],
      "id": "7b806983"
    },
    {
      "cell_type": "code",
      "execution_count": 17,
      "metadata": {
        "cell_style": "center",
        "quarto-private-1": {
          "key": "slideshow",
          "value": {
            "slide_type": "fragment"
          }
        }
      },
      "outputs": [],
      "source": [
        "pickle_out = open(\"dict.pickle\",\"wb\") # Next, we open a file (note that we open to write bytes in Python 3+)"
      ],
      "id": "e892829f"
    },
    {
      "cell_type": "code",
      "execution_count": 18,
      "metadata": {
        "cell_style": "center",
        "quarto-private-1": {
          "key": "slideshow",
          "value": {
            "slide_type": "fragment"
          }
        }
      },
      "outputs": [],
      "source": [
        "pickle.dump(example_dict, pickle_out) # then we use pickle.dump() to put the dict into opened file, then close."
      ],
      "id": "ba0d26fe"
    },
    {
      "cell_type": "code",
      "execution_count": 19,
      "metadata": {
        "cell_style": "center",
        "quarto-private-1": {
          "key": "slideshow",
          "value": {
            "slide_type": "fragment"
          }
        }
      },
      "outputs": [],
      "source": [
        "pickle_out.close() # and close(), it's very important to NOT forget to close your opened files."
      ],
      "id": "302d1691"
    },
    {
      "cell_type": "markdown",
      "metadata": {},
      "source": [
        "The above code will save the pickle file for us, now we need to cover\n",
        "how to access the pickled file:"
      ],
      "id": "90525303-38d4-4a11-9dac-a60b3c5752cd"
    },
    {
      "cell_type": "code",
      "execution_count": 20,
      "metadata": {
        "cell_style": "center",
        "quarto-private-1": {
          "key": "slideshow",
          "value": {
            "slide_type": "fragment"
          }
        }
      },
      "outputs": [],
      "source": [
        "pickle_in = open(\"dict.pickle\",\"rb\") # Open the pickle file"
      ],
      "id": "790829b1"
    },
    {
      "cell_type": "code",
      "execution_count": 21,
      "metadata": {
        "cell_style": "center",
        "quarto-private-1": {
          "key": "slideshow",
          "value": {
            "slide_type": "fragment"
          }
        }
      },
      "outputs": [],
      "source": [
        "example_dict = pickle.load(pickle_in) # Use pickle.load() to load it to a var."
      ],
      "id": "ea99d0a0"
    },
    {
      "cell_type": "markdown",
      "metadata": {},
      "source": [
        "That’s all there is to it, now you can do things like:"
      ],
      "id": "ad57bc95-fe20-40c1-9e3a-9b8a2d55318c"
    },
    {
      "cell_type": "code",
      "execution_count": 22,
      "metadata": {
        "cell_style": "center",
        "quarto-private-1": {
          "key": "slideshow",
          "value": {
            "slide_type": "fragment"
          }
        }
      },
      "outputs": [
        {
          "output_type": "stream",
          "name": "stdout",
          "text": [
            "{1: '6', 2: '2', 3: 'f'}\n",
            "f"
          ]
        }
      ],
      "source": [
        "print(example_dict)\n",
        "print(example_dict[3])"
      ],
      "id": "a686c9d1"
    },
    {
      "cell_type": "markdown",
      "metadata": {},
      "source": [
        "This shows that we’ve retained the dict data-type.\n",
        "\n",
        "## Queues\n",
        "\n",
        "-   multiprocessing.Queue\n",
        "    -   **cannot be pickled** and thus can’t be passed to Pool methods\n",
        "    -   can deadlock with improper join use\n",
        "-   multiprocessing.Manager.Queue\n",
        "    -   is proxy, can be pickled\n",
        "    -   can be shared between processes\n",
        "\n",
        "$\\Longrightarrow$ prefer the use of managed queues\n",
        "\n",
        "## Short example of queue use\n",
        "\n",
        "In this example we share a managed queue between processes, and each\n",
        "process can randomly put a boolean (indicating a failure for example) in\n",
        "this queue.\n",
        "\n",
        "This is our dummy function to parallelize, getting the shared queue as\n",
        "an additional argument"
      ],
      "id": "a7d80499-c8e4-4a8d-a626-2068760078cf"
    },
    {
      "cell_type": "code",
      "execution_count": 23,
      "metadata": {
        "quarto-private-1": {
          "key": "slideshow",
          "value": {
            "slide_type": "-"
          }
        }
      },
      "outputs": [],
      "source": [
        "from random import randint\n",
        "\n",
        "def multiple_output_method(provider, vm_name, fail_queue):\n",
        "    # random success of called method\n",
        "    if randint(0, 1):\n",
        "        return True\n",
        "    else:\n",
        "        # Store our failure vm on the queue\n",
        "        fail_queue.put(vm_name)\n",
        "        return None"
      ],
      "id": "1991b98b"
    },
    {
      "cell_type": "markdown",
      "metadata": {},
      "source": [
        "We need to instantiate the manager, and create a queue from it"
      ],
      "id": "ccf03506-8c23-4efd-9866-674e58c668ae"
    },
    {
      "cell_type": "code",
      "execution_count": 24,
      "metadata": {
        "quarto-private-1": {
          "key": "slideshow",
          "value": {
            "slide_type": "-"
          }
        }
      },
      "outputs": [],
      "source": [
        "from multiprocessing import Manager\n",
        "\n",
        "# Create instance of manager\n",
        "manager = Manager()\n",
        "\n",
        "# Create queue object to give to child processes\n",
        "queue_for_failures = manager.Queue()"
      ],
      "id": "cc623a04"
    },
    {
      "cell_type": "markdown",
      "metadata": {},
      "source": [
        "The (multi)-processing is there"
      ],
      "id": "6a6a4c56-7689-44a8-9469-9d111cc59898"
    },
    {
      "cell_type": "code",
      "execution_count": 25,
      "metadata": {
        "quarto-private-1": {
          "key": "slideshow",
          "value": {
            "slide_type": "-"
          }
        }
      },
      "outputs": [],
      "source": [
        "with Pool(2) as pool:\n",
        "    results = pool.starmap(\n",
        "        multiple_output_method, \n",
        "        [(key, vm, queue_for_failures)\n",
        "         for key, vms\n",
        "         in example_provider_vm_lists.items()\n",
        "         for vm in vms]\n",
        "    )"
      ],
      "id": "28ad91b9"
    },
    {
      "cell_type": "markdown",
      "metadata": {},
      "source": [
        "Now what’s up ?\n",
        "\n",
        "Results :"
      ],
      "id": "73dd8411-ea4c-480b-889b-b25864f49e06"
    },
    {
      "cell_type": "code",
      "execution_count": 26,
      "metadata": {
        "quarto-private-1": {
          "key": "slideshow",
          "value": {
            "slide_type": "fragment"
          }
        }
      },
      "outputs": [
        {
          "output_type": "stream",
          "name": "stdout",
          "text": [
            "Results are in: [True, True, True, True, True, True]"
          ]
        }
      ],
      "source": [
        "print('Results are in: {}'.format(results))"
      ],
      "id": "334eb16e"
    },
    {
      "cell_type": "markdown",
      "metadata": {},
      "source": [
        "And what is in the queue ?"
      ],
      "id": "21cbd615-a8c1-4969-a0de-1c57b4642a0c"
    },
    {
      "cell_type": "code",
      "execution_count": 27,
      "metadata": {
        "quarto-private-1": {
          "key": "slideshow",
          "value": {
            "slide_type": "fragment"
          }
        }
      },
      "outputs": [
        {
          "output_type": "stream",
          "name": "stdout",
          "text": [
            "Failures are in: []"
          ]
        }
      ],
      "source": [
        "failed_vms = []\n",
        "# get items from the queue while its not empty\n",
        "while not queue_for_failures.empty():\n",
        "    failed_vms.append(queue_for_failures.get())\n",
        "    \n",
        "print('Failures are in: {}'.format(failed_vms))"
      ],
      "id": "6c506c6a"
    }
  ],
  "nbformat": 4,
  "nbformat_minor": 5,
  "metadata": {
    "kernelspec": {
      "name": "python3",
      "display_name": "Python 3 (ipykernel)",
      "language": "python",
      "path": "/Users/fradav/Documents/Dev/Python/Cours-programmation-MIASHS-2025/.venv/share/jupyter/kernels/python3"
    },
    "language_info": {
      "name": "python",
      "codemirror_mode": {
        "name": "ipython",
        "version": "3"
      },
      "file_extension": ".py",
      "mimetype": "text/x-python",
      "nbconvert_exporter": "python",
      "pygments_lexer": "ipython3",
      "version": "3.13.2"
    }
  }
}